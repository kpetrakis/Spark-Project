{
 "cells": [
  {
   "cell_type": "code",
   "execution_count": 1,
   "metadata": {},
   "outputs": [],
   "source": [
    "import pyspark\n",
    "from pyspark import SparkContext\n",
    "sc = SparkContext(\"local\", \"First App\")"
   ]
  },
  {
   "cell_type": "code",
   "execution_count": 19,
   "metadata": {},
   "outputs": [],
   "source": [
    "from pyspark import SparkContext\n",
    "sc = SparkContext(\"local\", \"First App\")\n",
    "\n",
    "from pyspark.sql import SparkSession\n",
    "spark = SparkSession \\\n",
    "    .builder \\\n",
    "    .appName(\"First App\") \\\n",
    "    .getOrCreate()"
   ]
  },
  {
   "cell_type": "code",
   "execution_count": 20,
   "metadata": {},
   "outputs": [
    {
     "data": {
      "text/html": [
       "\n",
       "            <div>\n",
       "                <p><b>SparkSession - in-memory</b></p>\n",
       "                \n",
       "        <div>\n",
       "            <p><b>SparkContext</b></p>\n",
       "\n",
       "            <p><a href=\"http://DESKTOP-GRQLJ30:4040\">Spark UI</a></p>\n",
       "\n",
       "            <dl>\n",
       "              <dt>Version</dt>\n",
       "                <dd><code>v3.1.1</code></dd>\n",
       "              <dt>Master</dt>\n",
       "                <dd><code>local</code></dd>\n",
       "              <dt>AppName</dt>\n",
       "                <dd><code>First App</code></dd>\n",
       "            </dl>\n",
       "        </div>\n",
       "        \n",
       "            </div>\n",
       "        "
      ],
      "text/plain": [
       "<pyspark.sql.session.SparkSession at 0x222d5835908>"
      ]
     },
     "execution_count": 20,
     "metadata": {},
     "output_type": "execute_result"
    }
   ],
   "source": [
    "spark"
   ]
  },
  {
   "cell_type": "code",
   "execution_count": 27,
   "metadata": {},
   "outputs": [
    {
     "data": {
      "text/html": [
       "<div>\n",
       "<style scoped>\n",
       "    .dataframe tbody tr th:only-of-type {\n",
       "        vertical-align: middle;\n",
       "    }\n",
       "\n",
       "    .dataframe tbody tr th {\n",
       "        vertical-align: top;\n",
       "    }\n",
       "\n",
       "    .dataframe thead th {\n",
       "        text-align: right;\n",
       "    }\n",
       "</style>\n",
       "<table border=\"1\" class=\"dataframe\">\n",
       "  <thead>\n",
       "    <tr style=\"text-align: right;\">\n",
       "      <th></th>\n",
       "      <th>GEO/TIME</th>\n",
       "      <th>2006</th>\n",
       "      <th>2007</th>\n",
       "      <th>2008</th>\n",
       "      <th>2009</th>\n",
       "      <th>2010</th>\n",
       "      <th>2011</th>\n",
       "      <th>2012</th>\n",
       "      <th>2013</th>\n",
       "      <th>2014</th>\n",
       "      <th>2015</th>\n",
       "    </tr>\n",
       "  </thead>\n",
       "  <tbody>\n",
       "    <tr>\n",
       "      <th>0</th>\n",
       "      <td>Belgium</td>\n",
       "      <td>16039090</td>\n",
       "      <td>16271311</td>\n",
       "      <td>16360702</td>\n",
       "      <td>15451017</td>\n",
       "      <td>16169676</td>\n",
       "      <td>16723867</td>\n",
       "      <td>16432646</td>\n",
       "      <td>16511721</td>\n",
       "      <td>17068872</td>\n",
       "      <td>18852087</td>\n",
       "    </tr>\n",
       "    <tr>\n",
       "      <th>1</th>\n",
       "      <td>Bulgaria</td>\n",
       "      <td>11944694</td>\n",
       "      <td>12006786</td>\n",
       "      <td>11791454</td>\n",
       "      <td>9460922</td>\n",
       "      <td>10547112</td>\n",
       "      <td>12426723</td>\n",
       "      <td>13451440</td>\n",
       "      <td>14370426</td>\n",
       "      <td>14077798</td>\n",
       "      <td>13352281</td>\n",
       "    </tr>\n",
       "    <tr>\n",
       "      <th>2</th>\n",
       "      <td>Czech Republic</td>\n",
       "      <td>20090348</td>\n",
       "      <td>20610186</td>\n",
       "      <td>19987022</td>\n",
       "      <td>17746893</td>\n",
       "      <td>18365947</td>\n",
       "      <td>19424839</td>\n",
       "      <td>21793985</td>\n",
       "      <td>22144896</td>\n",
       "      <td>22110112</td>\n",
       "      <td>23286515</td>\n",
       "    </tr>\n",
       "    <tr>\n",
       "      <th>3</th>\n",
       "      <td>Denmark</td>\n",
       "      <td>9453026</td>\n",
       "      <td>9327579</td>\n",
       "      <td>8918197</td>\n",
       "      <td>8299403</td>\n",
       "      <td>8981992</td>\n",
       "      <td>9491137</td>\n",
       "      <td>9608124</td>\n",
       "      <td>9914273</td>\n",
       "      <td>10608119</td>\n",
       "      <td>11171416</td>\n",
       "    </tr>\n",
       "    <tr>\n",
       "      <th>4</th>\n",
       "      <td>Germany (until 1990 former territory of the FRG)</td>\n",
       "      <td>52947373</td>\n",
       "      <td>54485379</td>\n",
       "      <td>56239679</td>\n",
       "      <td>54096574</td>\n",
       "      <td>59658760</td>\n",
       "      <td>63081467</td>\n",
       "      <td>68161503</td>\n",
       "      <td>71191942</td>\n",
       "      <td>74805253</td>\n",
       "      <td>78827773</td>\n",
       "    </tr>\n",
       "  </tbody>\n",
       "</table>\n",
       "</div>"
      ],
      "text/plain": [
       "                                           GEO/TIME      2006      2007  \\\n",
       "0                                           Belgium  16039090  16271311   \n",
       "1                                          Bulgaria  11944694  12006786   \n",
       "2                                    Czech Republic  20090348  20610186   \n",
       "3                                           Denmark   9453026   9327579   \n",
       "4  Germany (until 1990 former territory of the FRG)  52947373  54485379   \n",
       "\n",
       "       2008      2009      2010      2011      2012      2013      2014  \\\n",
       "0  16360702  15451017  16169676  16723867  16432646  16511721  17068872   \n",
       "1  11791454   9460922  10547112  12426723  13451440  14370426  14077798   \n",
       "2  19987022  17746893  18365947  19424839  21793985  22144896  22110112   \n",
       "3   8918197   8299403   8981992   9491137   9608124   9914273  10608119   \n",
       "4  56239679  54096574  59658760  63081467  68161503  71191942  74805253   \n",
       "\n",
       "       2015  \n",
       "0  18852087  \n",
       "1  13352281  \n",
       "2  23286515  \n",
       "3  11171416  \n",
       "4  78827773  "
      ]
     },
     "execution_count": 27,
     "metadata": {},
     "output_type": "execute_result"
    }
   ],
   "source": [
    "import pandas as pd\n",
    "# ta onomata twn stilwn einai stin grammi 8\n",
    "tour_data = pd.read_excel(\"tour_occ_ninat.xlsx\",header=8)\n",
    "tour_data.head()\n",
    "# metatrepoume to arxeio se .csv - xwris tin arithmisi twn grammwn\n",
    "tour_data.to_csv(\"tour_occ_ninat.csv\",index=False)"
   ]
  },
  {
   "cell_type": "code",
   "execution_count": 4,
   "metadata": {},
   "outputs": [
    {
     "ename": "NameError",
     "evalue": "name 'pd' is not defined",
     "output_type": "error",
     "traceback": [
      "\u001b[1;31m---------------------------------------------------------------------------\u001b[0m",
      "\u001b[1;31mNameError\u001b[0m                                 Traceback (most recent call last)",
      "\u001b[1;32m<ipython-input-4-3bbbdfc85f4f>\u001b[0m in \u001b[0;36m<module>\u001b[1;34m()\u001b[0m\n\u001b[1;32m----> 1\u001b[1;33m \u001b[0mdata\u001b[0m \u001b[1;33m=\u001b[0m \u001b[0mpd\u001b[0m\u001b[1;33m.\u001b[0m\u001b[0mread_csv\u001b[0m\u001b[1;33m(\u001b[0m\u001b[1;34m\"tour_occ_ninat.csv\"\u001b[0m\u001b[1;33m)\u001b[0m\u001b[1;33m\u001b[0m\u001b[1;33m\u001b[0m\u001b[0m\n\u001b[0m\u001b[0;32m      2\u001b[0m \u001b[0mdata\u001b[0m\u001b[1;33m.\u001b[0m\u001b[0mhead\u001b[0m\u001b[1;33m(\u001b[0m\u001b[1;33m)\u001b[0m\u001b[1;33m\u001b[0m\u001b[1;33m\u001b[0m\u001b[0m\n",
      "\u001b[1;31mNameError\u001b[0m: name 'pd' is not defined"
     ]
    }
   ],
   "source": [
    "data = pd.read_csv(\"tour_occ_ninat.csv\")\n",
    "data.head()"
   ]
  },
  {
   "cell_type": "code",
   "execution_count": 21,
   "metadata": {},
   "outputs": [
    {
     "name": "stdout",
     "output_type": "stream",
     "text": [
      "+--------------------+---------+---------+---------+---------+---------+---------+---------+---------+---------+---------+\n",
      "|            GEO/TIME|     2006|     2007|     2008|     2009|     2010|     2011|     2012|     2013|     2014|     2015|\n",
      "+--------------------+---------+---------+---------+---------+---------+---------+---------+---------+---------+---------+\n",
      "|             Belgium| 16039090| 16271311| 16360702| 15451017| 16169676| 16723867| 16432646| 16511721| 17068872| 18852087|\n",
      "|            Bulgaria| 11944694| 12006786| 11791454|  9460922| 10547112| 12426723| 13451440| 14370426| 14077798| 13352281|\n",
      "|      Czech Republic| 20090348| 20610186| 19987022| 17746893| 18365947| 19424839| 21793985| 22144896| 22110112| 23286515|\n",
      "|             Denmark|  9453026|  9327579|  8918197|  8299403|  8981992|  9491137|  9608124|  9914273| 10608119| 11171416|\n",
      "|Germany (until 19...| 52947373| 54485379| 56239679| 54096574| 59658760| 63081467| 68161503| 71191942| 74805253| 78827773|\n",
      "|             Estonia|  3020367|  2915456|  2932662|  2740696|  3203721|  3748865|  3823039|  3909326|  3919299|  3770207|\n",
      "|             Ireland| 21652000|        :|        :|        :|        :|        :| 11839245| 10871806| 11276424| 13462348|\n",
      "|              Greece| 43055381| 48081473| 47973949| 57413304| 59184397| 65514230| 61054383| 68992640| 74675156| 78254524|\n",
      "|               Spain|224518083|225450241|223756216|200551728|213349649|239369167|243389006|252447766|259635794|269418103|\n",
      "|              France|105865432|108567043|106993811| 98705212|120390105|123227704|125038453|132251136|130908700|130464997|\n",
      "|             Croatia| 32858014| 33701925| 33902735| 33357844| 33234882| 35389002| 57079967| 59378896| 61072661| 65683010|\n",
      "|               Italy|156861341|163465680|161797434|159493866|165202498|176474062|180594988|184793382|186792507|192607930|\n",
      "|              Cyprus| 13310257| 13197004| 13208954| 11666663| 12448158| 13112596| 13488127| 13152589| 12884399| 12550320|\n",
      "|              Latvia|  1872393|  1935984|  2115618|  1699562|  1912336|  2257021|  2429093|  2639434|  2875934|  2873885|\n",
      "|           Lithuania|  1514197|  1609998|  1626829|  1395899|  1571325|  1883003|  2680048|  2906201|  3033826|  3010727|\n",
      "|          Luxembourg|  2399913|  2328688|  2249545|  2075831|  1717130|  2057883|  2298068|  2313124|  2513585|  2655733|\n",
      "|             Hungary| 10045891| 10170808| 10009531|  9220148|  9358373|  9920339| 11392183| 11982883| 12351330| 12962395|\n",
      "|               Malta|  7094031|  7749831|  7581137|  6550794|  7208295|  7361449|  7498421|  8172407|  8428215|  8542055|\n",
      "|         Netherlands| 26886500| 27952200| 25267600| 25013700| 26799800| 27739000| 27845942| 31770508| 34423552| 37297588|\n",
      "|             Austria| 70017089| 71518637| 74730956| 72224605| 72585976| 73647325| 77158431| 78433546| 78099096| 80304956|\n",
      "+--------------------+---------+---------+---------+---------+---------+---------+---------+---------+---------+---------+\n",
      "only showing top 20 rows\n",
      "\n"
     ]
    }
   ],
   "source": [
    "# diavazoume to .csv arxeio\n",
    "df = spark.read.option(\"header\",\"true\").load(\"tour_occ_ninat.csv\",format='csv')\n",
    "df.show()"
   ]
  },
  {
   "cell_type": "code",
   "execution_count": 22,
   "metadata": {},
   "outputs": [
    {
     "name": "stdout",
     "output_type": "stream",
     "text": [
      "root\n",
      " |-- GEO/TIME: string (nullable = true)\n",
      " |-- 2006: string (nullable = true)\n",
      " |-- 2007: string (nullable = true)\n",
      " |-- 2008: string (nullable = true)\n",
      " |-- 2009: string (nullable = true)\n",
      " |-- 2010: string (nullable = true)\n",
      " |-- 2011: string (nullable = true)\n",
      " |-- 2012: string (nullable = true)\n",
      " |-- 2013: string (nullable = true)\n",
      " |-- 2014: string (nullable = true)\n",
      " |-- 2015: string (nullable = true)\n",
      "\n"
     ]
    }
   ],
   "source": [
    "df.printSchema()"
   ]
  },
  {
   "cell_type": "code",
   "execution_count": 23,
   "metadata": {},
   "outputs": [
    {
     "name": "stdout",
     "output_type": "stream",
     "text": [
      "root\n",
      " |-- GEO/TIME: string (nullable = true)\n",
      " |-- 2006: integer (nullable = true)\n",
      " |-- 2007: integer (nullable = true)\n",
      " |-- 2008: integer (nullable = true)\n",
      " |-- 2009: integer (nullable = true)\n",
      " |-- 2010: integer (nullable = true)\n",
      " |-- 2011: integer (nullable = true)\n",
      " |-- 2012: integer (nullable = true)\n",
      " |-- 2013: integer (nullable = true)\n",
      " |-- 2014: integer (nullable = true)\n",
      " |-- 2015: integer (nullable = true)\n",
      "\n"
     ]
    }
   ],
   "source": [
    "# *** SOS PRWTA NA KANW TIS STILES DOUBLE GIATI EINAI OLES STRING!!! ***\n",
    "# allagi tipou stis stiles apo string se int\n",
    "\n",
    "# allazoume ton tipo stilwn apo string se int\n",
    "# allazw oles tis stiles me tin kathe xronia - dld ektos apo tin prwti me tis xwres\n",
    "for column in df.columns:\n",
    "# for column in df.columns[1:]:\n",
    "    if column == \"GEO/TIME\":\n",
    "        continue\n",
    "    else:\n",
    "        df = df.withColumn(column,df[column].cast(\"int\"))\n",
    "\n",
    "df.printSchema()\n",
    "# df.show(10)"
   ]
  },
  {
   "cell_type": "code",
   "execution_count": 24,
   "metadata": {},
   "outputs": [
    {
     "name": "stdout",
     "output_type": "stream",
     "text": [
      "+--------------------+---------+---------+---------+---------+---------+---------+---------+---------+---------+---------+\n",
      "|            GEO/TIME|     2006|     2007|     2008|     2009|     2010|     2011|     2012|     2013|     2014|     2015|\n",
      "+--------------------+---------+---------+---------+---------+---------+---------+---------+---------+---------+---------+\n",
      "|             Belgium| 16039090| 16271311| 16360702| 15451017| 16169676| 16723867| 16432646| 16511721| 17068872| 18852087|\n",
      "|            Bulgaria| 11944694| 12006786| 11791454|  9460922| 10547112| 12426723| 13451440| 14370426| 14077798| 13352281|\n",
      "|      Czech Republic| 20090348| 20610186| 19987022| 17746893| 18365947| 19424839| 21793985| 22144896| 22110112| 23286515|\n",
      "|             Denmark|  9453026|  9327579|  8918197|  8299403|  8981992|  9491137|  9608124|  9914273| 10608119| 11171416|\n",
      "|Germany (until 19...| 52947373| 54485379| 56239679| 54096574| 59658760| 63081467| 68161503| 71191942| 74805253| 78827773|\n",
      "|             Estonia|  3020367|  2915456|  2932662|  2740696|  3203721|  3748865|  3823039|  3909326|  3919299|  3770207|\n",
      "|             Ireland| 21652000|        0|        0|        0|        0|        0| 11839245| 10871806| 11276424| 13462348|\n",
      "|              Greece| 43055381| 48081473| 47973949| 57413304| 59184397| 65514230| 61054383| 68992640| 74675156| 78254524|\n",
      "|               Spain|224518083|225450241|223756216|200551728|213349649|239369167|243389006|252447766|259635794|269418103|\n",
      "|              France|105865432|108567043|106993811| 98705212|120390105|123227704|125038453|132251136|130908700|130464997|\n",
      "|             Croatia| 32858014| 33701925| 33902735| 33357844| 33234882| 35389002| 57079967| 59378896| 61072661| 65683010|\n",
      "|               Italy|156861341|163465680|161797434|159493866|165202498|176474062|180594988|184793382|186792507|192607930|\n",
      "|              Cyprus| 13310257| 13197004| 13208954| 11666663| 12448158| 13112596| 13488127| 13152589| 12884399| 12550320|\n",
      "|              Latvia|  1872393|  1935984|  2115618|  1699562|  1912336|  2257021|  2429093|  2639434|  2875934|  2873885|\n",
      "|           Lithuania|  1514197|  1609998|  1626829|  1395899|  1571325|  1883003|  2680048|  2906201|  3033826|  3010727|\n",
      "|          Luxembourg|  2399913|  2328688|  2249545|  2075831|  1717130|  2057883|  2298068|  2313124|  2513585|  2655733|\n",
      "|             Hungary| 10045891| 10170808| 10009531|  9220148|  9358373|  9920339| 11392183| 11982883| 12351330| 12962395|\n",
      "|               Malta|  7094031|  7749831|  7581137|  6550794|  7208295|  7361449|  7498421|  8172407|  8428215|  8542055|\n",
      "|         Netherlands| 26886500| 27952200| 25267600| 25013700| 26799800| 27739000| 27845942| 31770508| 34423552| 37297588|\n",
      "|             Austria| 70017089| 71518637| 74730956| 72224605| 72585976| 73647325| 77158431| 78433546| 78099096| 80304956|\n",
      "+--------------------+---------+---------+---------+---------+---------+---------+---------+---------+---------+---------+\n",
      "only showing top 20 rows\n",
      "\n"
     ]
    }
   ],
   "source": [
    "# antikathistw tis ellipeis times me to 0\n",
    "df = df.fillna(0)\n",
    "df.show()"
   ]
  },
  {
   "cell_type": "code",
   "execution_count": null,
   "metadata": {},
   "outputs": [],
   "source": []
  },
  {
   "cell_type": "code",
   "execution_count": 21,
   "metadata": {},
   "outputs": [
    {
     "name": "stdout",
     "output_type": "stream",
     "text": [
      "+--------------------+---------+---------+---------+---------+---------+---------+---------+---------+---------+---------+---------------+\n",
      "|            GEO/TIME|     2006|     2007|     2008|     2009|     2010|     2011|     2012|     2013|     2014|     2015|     mean_07-14|\n",
      "+--------------------+---------+---------+---------+---------+---------+---------+---------+---------+---------+---------+---------------+\n",
      "|             Belgium| 16039090| 16271311| 16360702| 15451017| 16169676| 16723867| 16432646| 16511721| 17068872| 18852087|   1.63737265E7|\n",
      "|            Bulgaria| 11944694| 12006786| 11791454|  9460922| 10547112| 12426723| 13451440| 14370426| 14077798| 13352281| 1.2266582625E7|\n",
      "|      Czech Republic| 20090348| 20610186| 19987022| 17746893| 18365947| 19424839| 21793985| 22144896| 22110112| 23286515|    2.0272985E7|\n",
      "|             Denmark|  9453026|  9327579|  8918197|  8299403|  8981992|  9491137|  9608124|  9914273| 10608119| 11171416|      9393603.0|\n",
      "|Germany (until 19...| 52947373| 54485379| 56239679| 54096574| 59658760| 63081467| 68161503| 71191942| 74805253| 78827773| 6.2715069625E7|\n",
      "|             Estonia|  3020367|  2915456|  2932662|  2740696|  3203721|  3748865|  3823039|  3909326|  3919299|  3770207|      3399133.0|\n",
      "|             Ireland| 21652000|        0|        0|        0|        0|        0| 11839245| 10871806| 11276424| 13462348|    4248434.375|\n",
      "|              Greece| 43055381| 48081473| 47973949| 57413304| 59184397| 65514230| 61054383| 68992640| 74675156| 78254524|   6.03611915E7|\n",
      "|               Spain|224518083|225450241|223756216|200551728|213349649|239369167|243389006|252447766|259635794|269418103|2.32243695875E8|\n",
      "|              France|105865432|108567043|106993811| 98705212|120390105|123227704|125038453|132251136|130908700|130464997|  1.182602705E8|\n",
      "|             Croatia| 32858014| 33701925| 33902735| 33357844| 33234882| 35389002| 57079967| 59378896| 61072661| 65683010|    4.3389739E7|\n",
      "|               Italy|156861341|163465680|161797434|159493866|165202498|176474062|180594988|184793382|186792507|192607930|1.72326802125E8|\n",
      "|              Cyprus| 13310257| 13197004| 13208954| 11666663| 12448158| 13112596| 13488127| 13152589| 12884399| 12550320|  1.289481125E7|\n",
      "|              Latvia|  1872393|  1935984|  2115618|  1699562|  1912336|  2257021|  2429093|  2639434|  2875934|  2873885|     2233122.75|\n",
      "|           Lithuania|  1514197|  1609998|  1626829|  1395899|  1571325|  1883003|  2680048|  2906201|  3033826|  3010727|    2088391.125|\n",
      "|          Luxembourg|  2399913|  2328688|  2249545|  2075831|  1717130|  2057883|  2298068|  2313124|  2513585|  2655733|     2194231.75|\n",
      "|             Hungary| 10045891| 10170808| 10009531|  9220148|  9358373|  9920339| 11392183| 11982883| 12351330| 12962395| 1.0550699375E7|\n",
      "|               Malta|  7094031|  7749831|  7581137|  6550794|  7208295|  7361449|  7498421|  8172407|  8428215|  8542055|    7568818.625|\n",
      "|         Netherlands| 26886500| 27952200| 25267600| 25013700| 26799800| 27739000| 27845942| 31770508| 34423552| 37297588|  2.835153775E7|\n",
      "|             Austria| 70017089| 71518637| 74730956| 72224605| 72585976| 73647325| 77158431| 78433546| 78099096| 80304956|   7.47998215E7|\n",
      "+--------------------+---------+---------+---------+---------+---------+---------+---------+---------+---------+---------+---------------+\n",
      "only showing top 20 rows\n",
      "\n"
     ]
    }
   ],
   "source": [
    "# erotima 1 - Mipws iparxei kaliteros tropos??\n",
    "\n",
    "from pyspark.sql.functions import col, lit\n",
    "# df.select(((col('2007')+col('2008')+col('2009')+col('2010')+col('2011')+col('2012')+col('2013')+col('2014'))/lit(8)).alias(\"mean\")).show()\n",
    "\n",
    "# athroizoume tis stiles 2007 ews 2014 kai diairoume me to plithos tous\n",
    "df.withColumn(\"mean_07-14\",(col('2007')+col('2008')+col('2009')+col('2010')+col('2011')+col('2012')+col('2013')+col('2014'))/8).show()\n"
   ]
  },
  {
   "cell_type": "code",
   "execution_count": 22,
   "metadata": {},
   "outputs": [
    {
     "name": "stdout",
     "output_type": "stream",
     "text": [
      "+--------------------+--------+--------+--------+--------+--------+--------+--------+--------+--------+--------+\n",
      "|            GEO/TIME|    2006|    2007|    2008|    2009|    2010|    2011|    2012|    2013|    2014|    2015|\n",
      "+--------------------+--------+--------+--------+--------+--------+--------+--------+--------+--------+--------+\n",
      "|             Belgium|16039090|16271311|16360702|15451017|16169676|16723867|16432646|16511721|17068872|18852087|\n",
      "|             Denmark| 9453026| 9327579| 8918197| 8299403| 8981992| 9491137| 9608124| 9914273|10608119|11171416|\n",
      "|Germany (until 19...|52947373|54485379|56239679|54096574|59658760|63081467|68161503|71191942|74805253|78827773|\n",
      "|              Greece|43055381|48081473|47973949|57413304|59184397|65514230|61054383|68992640|74675156|78254524|\n",
      "|             Croatia|32858014|33701925|33902735|33357844|33234882|35389002|57079967|59378896|61072661|65683010|\n",
      "|              Cyprus|13310257|13197004|13208954|11666663|12448158|13112596|13488127|13152589|12884399|12550320|\n",
      "+--------------------+--------+--------+--------+--------+--------+--------+--------+--------+--------+--------+\n",
      "\n"
     ]
    }
   ],
   "source": [
    "# erotima 2\n",
    "from pyspark.sql.functions import *\n",
    "# epilegoume tin ellada kai 5 akoma xwres\n",
    "# exw 2 diaforetika sinola listwn gia na fanei i diafora otan einai i den einai megisti i Ellada!\n",
    "selected_countries = ['Greece','Belgium','Denmark', 'Croatia','Germany (until 1990 former territory of the FRG)','Cyprus']\n",
    "# selected_countries = ['Greece','Belgium','Croatia','Cyprus','France','Hungary']\n",
    "\n",
    "# kataskeuazw neo dataframe to opoio periexei mono tis epilegmenes xwres \n",
    "df_2 = df.filter(col('GEO/TIME').isin(selected_countries))\n",
    "df_2.show()"
   ]
  },
  {
   "cell_type": "code",
   "execution_count": 23,
   "metadata": {},
   "outputs": [
    {
     "name": "stdout",
     "output_type": "stream",
     "text": [
      "H Ellada eixe perissoteres episkepseis tis xronies: ['2009', '2011']\n",
      "Sinolika h Ellada eixe perissotera arrivals gia 2 xronies\n"
     ]
    }
   ],
   "source": [
    "# erotima 2\n",
    "\n",
    "# lista pou tha krata tis xronies pou i Ellada eixe to megisto arithmo dianiktereusewn \n",
    "years_greece_was_greatest = []\n",
    "count = 0\n",
    "# diatrexw gia kathe xronia plin tis stilis 'GEO/TIME'\n",
    "for year in df_2.columns:\n",
    "    if (year == 'GEO/TIME'):\n",
    "        continue\n",
    "#     print(year)\n",
    "#     print(df_2.sort(df[year].desc()).collect()[0][0]) # i xwra me to megisto tin kathe xronia\n",
    "#     \n",
    "#   taksinomw kathe stili me fthinousa diataksi kai eksagw tin xwra pou eixe to megisto\n",
    "#   an auti itan i Ellada tote prosthetw ti xronia sti lista \n",
    "    if (df_2.sort(df[year].desc()).collect()[0][0] =='Greece'):\n",
    "        years_greece_was_greatest.append(year)\n",
    "        count+=1 # borw na to kanw kai me to len tis listas!\n",
    "    \n",
    "# df.sort('2006',ascending=False).collect()[0]\n",
    "# df.sort(df['2006'].desc()).show()\n",
    "\n",
    "# ektipwnw tis xronies pou i Ellada eixe to megisto arithmo dianiktereusewn kai poses itan autes i xronies\n",
    "print(f\"H Ellada eixe perissoteres episkepseis tis xronies: {years_greece_was_greatest}\")\n",
    "print(f\"Sinolika h Ellada eixe perissotera arrivals gia {len(years_greece_was_greatest)} xronies\")"
   ]
  },
  {
   "cell_type": "code",
   "execution_count": 115,
   "metadata": {},
   "outputs": [
    {
     "name": "stdout",
     "output_type": "stream",
     "text": [
      "+--------------------+\n",
      "|        Max_for_2006|\n",
      "+--------------------+\n",
      "|               Spain|\n",
      "|               Italy|\n",
      "|              France|\n",
      "|      United Kingdom|\n",
      "|             Austria|\n",
      "|Germany (until 19...|\n",
      "|              Greece|\n",
      "|             Croatia|\n",
      "|         Netherlands|\n",
      "|            Portugal|\n",
      "|             Ireland|\n",
      "|      Czech Republic|\n",
      "|             Belgium|\n",
      "|              Cyprus|\n",
      "|            Bulgaria|\n",
      "|              Sweden|\n",
      "|              Poland|\n",
      "|             Hungary|\n",
      "|             Denmark|\n",
      "|              Norway|\n",
      "+--------------------+\n",
      "only showing top 20 rows\n",
      "\n",
      "+--------------------+\n",
      "|        Max_for_2007|\n",
      "+--------------------+\n",
      "|               Spain|\n",
      "|               Italy|\n",
      "|              France|\n",
      "|      United Kingdom|\n",
      "|             Austria|\n",
      "|Germany (until 19...|\n",
      "|              Greece|\n",
      "|             Croatia|\n",
      "|            Portugal|\n",
      "|         Netherlands|\n",
      "|      Czech Republic|\n",
      "|             Belgium|\n",
      "|              Cyprus|\n",
      "|            Bulgaria|\n",
      "|              Sweden|\n",
      "|              Poland|\n",
      "|             Hungary|\n",
      "|             Denmark|\n",
      "|              Norway|\n",
      "|               Malta|\n",
      "+--------------------+\n",
      "only showing top 20 rows\n",
      "\n",
      "+--------------------+\n",
      "|        Max_for_2008|\n",
      "+--------------------+\n",
      "|               Spain|\n",
      "|               Italy|\n",
      "|              France|\n",
      "|      United Kingdom|\n",
      "|             Austria|\n",
      "|Germany (until 19...|\n",
      "|              Greece|\n",
      "|             Croatia|\n",
      "|            Portugal|\n",
      "|         Netherlands|\n",
      "|      Czech Republic|\n",
      "|             Belgium|\n",
      "|              Cyprus|\n",
      "|            Bulgaria|\n",
      "|              Sweden|\n",
      "|              Poland|\n",
      "|             Hungary|\n",
      "|             Denmark|\n",
      "|              Norway|\n",
      "|               Malta|\n",
      "+--------------------+\n",
      "only showing top 20 rows\n",
      "\n",
      "+--------------------+\n",
      "|        Max_for_2009|\n",
      "+--------------------+\n",
      "|               Spain|\n",
      "|               Italy|\n",
      "|              France|\n",
      "|      United Kingdom|\n",
      "|             Austria|\n",
      "|              Greece|\n",
      "|Germany (until 19...|\n",
      "|             Croatia|\n",
      "|            Portugal|\n",
      "|         Netherlands|\n",
      "|      Czech Republic|\n",
      "|             Belgium|\n",
      "|              Cyprus|\n",
      "|              Sweden|\n",
      "|              Poland|\n",
      "|            Bulgaria|\n",
      "|             Hungary|\n",
      "|             Denmark|\n",
      "|              Norway|\n",
      "|               Malta|\n",
      "+--------------------+\n",
      "only showing top 20 rows\n",
      "\n",
      "+--------------------+\n",
      "|        Max_for_2010|\n",
      "+--------------------+\n",
      "|               Spain|\n",
      "|               Italy|\n",
      "|              France|\n",
      "|      United Kingdom|\n",
      "|             Austria|\n",
      "|Germany (until 19...|\n",
      "|              Greece|\n",
      "|             Croatia|\n",
      "|         Netherlands|\n",
      "|            Portugal|\n",
      "|      Czech Republic|\n",
      "|             Belgium|\n",
      "|              Cyprus|\n",
      "|              Sweden|\n",
      "|            Bulgaria|\n",
      "|              Poland|\n",
      "|             Hungary|\n",
      "|             Denmark|\n",
      "|              Norway|\n",
      "|               Malta|\n",
      "+--------------------+\n",
      "only showing top 20 rows\n",
      "\n",
      "+--------------------+\n",
      "|        Max_for_2011|\n",
      "+--------------------+\n",
      "|               Spain|\n",
      "|               Italy|\n",
      "|              France|\n",
      "|      United Kingdom|\n",
      "|             Austria|\n",
      "|              Greece|\n",
      "|Germany (until 19...|\n",
      "|             Croatia|\n",
      "|            Portugal|\n",
      "|         Netherlands|\n",
      "|      Czech Republic|\n",
      "|             Belgium|\n",
      "|              Cyprus|\n",
      "|            Bulgaria|\n",
      "|              Sweden|\n",
      "|              Poland|\n",
      "|             Hungary|\n",
      "|             Denmark|\n",
      "|              Norway|\n",
      "|               Malta|\n",
      "+--------------------+\n",
      "only showing top 20 rows\n",
      "\n",
      "+--------------------+\n",
      "|        Max_for_2012|\n",
      "+--------------------+\n",
      "|               Spain|\n",
      "|               Italy|\n",
      "|              France|\n",
      "|      United Kingdom|\n",
      "|             Austria|\n",
      "|Germany (until 19...|\n",
      "|              Greece|\n",
      "|             Croatia|\n",
      "|            Portugal|\n",
      "|         Netherlands|\n",
      "|      Czech Republic|\n",
      "|             Belgium|\n",
      "|              Cyprus|\n",
      "|            Bulgaria|\n",
      "|              Poland|\n",
      "|             Ireland|\n",
      "|             Hungary|\n",
      "|              Sweden|\n",
      "|             Denmark|\n",
      "|          Montenegro|\n",
      "+--------------------+\n",
      "only showing top 20 rows\n",
      "\n",
      "+--------------------+\n",
      "|        Max_for_2013|\n",
      "+--------------------+\n",
      "|               Spain|\n",
      "|               Italy|\n",
      "|              France|\n",
      "|              Turkey|\n",
      "|             Austria|\n",
      "|Germany (until 19...|\n",
      "|              Greece|\n",
      "|             Croatia|\n",
      "|            Portugal|\n",
      "|         Netherlands|\n",
      "|      Czech Republic|\n",
      "|             Belgium|\n",
      "|            Bulgaria|\n",
      "|              Cyprus|\n",
      "|              Poland|\n",
      "|             Hungary|\n",
      "|              Sweden|\n",
      "|             Ireland|\n",
      "|             Denmark|\n",
      "|               Malta|\n",
      "+--------------------+\n",
      "only showing top 20 rows\n",
      "\n",
      "+--------------------+\n",
      "|        Max_for_2014|\n",
      "+--------------------+\n",
      "|               Spain|\n",
      "|               Italy|\n",
      "|              France|\n",
      "|              Turkey|\n",
      "|             Austria|\n",
      "|Germany (until 19...|\n",
      "|              Greece|\n",
      "|             Croatia|\n",
      "|            Portugal|\n",
      "|         Netherlands|\n",
      "|      Czech Republic|\n",
      "|             Belgium|\n",
      "|            Bulgaria|\n",
      "|              Poland|\n",
      "|              Cyprus|\n",
      "|             Hungary|\n",
      "|              Sweden|\n",
      "|             Ireland|\n",
      "|             Denmark|\n",
      "|              Norway|\n",
      "+--------------------+\n",
      "only showing top 20 rows\n",
      "\n",
      "+--------------------+\n",
      "|        Max_for_2015|\n",
      "+--------------------+\n",
      "|               Spain|\n",
      "|               Italy|\n",
      "|              France|\n",
      "|              Turkey|\n",
      "|             Austria|\n",
      "|Germany (until 19...|\n",
      "|              Greece|\n",
      "|             Croatia|\n",
      "|            Portugal|\n",
      "|         Netherlands|\n",
      "|      Czech Republic|\n",
      "|             Belgium|\n",
      "|              Poland|\n",
      "|              Sweden|\n",
      "|             Ireland|\n",
      "|            Bulgaria|\n",
      "|             Hungary|\n",
      "|              Cyprus|\n",
      "|             Denmark|\n",
      "|          Montenegro|\n",
      "+--------------------+\n",
      "only showing top 20 rows\n",
      "\n"
     ]
    }
   ],
   "source": [
    "# erotima 3- oi xwre me to megalitero arithmo dianiktereusewn ana etos\n",
    "for year in df.columns[1:]:\n",
    "    df.orderBy(year,ascending=False).select(col('GEO/TIME').alias(f'Max_for_{year}')).show()\n"
   ]
  },
  {
   "cell_type": "code",
   "execution_count": 32,
   "metadata": {},
   "outputs": [
    {
     "name": "stdout",
     "output_type": "stream",
     "text": [
      "+---------+---------+---------+---------+---------+---------+---------+---------+---------+---------+\n",
      "|max(2006)|max(2007)|max(2008)|max(2009)|max(2010)|max(2011)|max(2012)|max(2013)|max(2014)|max(2015)|\n",
      "+---------+---------+---------+---------+---------+---------+---------+---------+---------+---------+\n",
      "|224518083|225450241|223756216|200551728|213349649|239369167|243389006|252447766|259635794|269418103|\n",
      "+---------+---------+---------+---------+---------+---------+---------+---------+---------+---------+\n",
      "\n"
     ]
    }
   ],
   "source": [
    "df.select(*(max(c) for c in df.columns[1:])).show()"
   ]
  },
  {
   "cell_type": "code",
   "execution_count": 33,
   "metadata": {},
   "outputs": [
    {
     "data": {
      "text/plain": [
       "Row(max(2006)=224518083, max(2007)=225450241, max(2008)=223756216, max(2009)=200551728, max(2010)=213349649, max(2011)=239369167, max(2012)=243389006, max(2013)=252447766, max(2014)=259635794, max(2015)=269418103)"
      ]
     },
     "execution_count": 33,
     "metadata": {},
     "output_type": "execute_result"
    }
   ],
   "source": [
    "df.select(*(max(c) for c in df.columns[1:])).collect()[0]"
   ]
  },
  {
   "cell_type": "code",
   "execution_count": 50,
   "metadata": {},
   "outputs": [
    {
     "name": "stdout",
     "output_type": "stream",
     "text": [
      "+------------+\n",
      "|maxCity_2015|\n",
      "+------------+\n",
      "|       Spain|\n",
      "+------------+\n",
      "\n"
     ]
    },
    {
     "data": {
      "text/plain": [
       "[Row(maxCity_2015='Spain')]"
      ]
     },
     "execution_count": 50,
     "metadata": {},
     "output_type": "execute_result"
    }
   ],
   "source": [
    "df.select(col('GEO/TIME').alias(f'maxCity_{xronia}')).filter(df['2006']==lista[0]).show()\n",
    "df.select(col('GEO/TIME').alias(f'maxCity_{xronia}')).filter(df['2006']==lista[0]).collect()"
   ]
  },
  {
   "cell_type": "code",
   "execution_count": 51,
   "metadata": {},
   "outputs": [
    {
     "name": "stdout",
     "output_type": "stream",
     "text": [
      "+------------+------------+------------+------------+------------+------------+------------+------------+------------+------------+\n",
      "|maxCity_2006|maxCity_2007|maxCity_2008|maxCity_2009|maxCity_2010|maxCity_2011|maxCity_2012|maxCity_2013|maxCity_2014|maxCity_2015|\n",
      "+------------+------------+------------+------------+------------+------------+------------+------------+------------+------------+\n",
      "|       Spain|       Spain|       Spain|       Spain|       Spain|       Spain|       Spain|       Spain|       Spain|       Spain|\n",
      "+------------+------------+------------+------------+------------+------------+------------+------------+------------+------------+\n",
      "\n"
     ]
    }
   ],
   "source": [
    "# erotima 3\n",
    "# from pyspark.sql.functions import max\n",
    "from pyspark.sql.functions import *\n",
    "# apothikeuw sti metavliti max_list to Row pou periexei to megisto kathe xronias\n",
    "max_list = df.select(*(max(c) for c in df.columns[1:])).collect()[0]\n",
    "iteration = 0\n",
    "# diatrexw gia kathe zeugari xronias-megistou ekeinis tis xronias\n",
    "for max_of_the_year,xronia in zip(max_list,df.columns[1:]):\n",
    "#  eksagw tin poli pou eixe to megisto tin xronia pou vrisketai kathe fora o vroxos\n",
    "    max_city_of_the_year = df.select(col('GEO/TIME').alias(f'maxCity_{xronia}')).filter(df[xronia]==max_of_the_year).collect()[0][0]\n",
    "#     poli_df =  df.select(col('GEO/TIME').alias(f'maxCity_{xronia}')).filter(df[xronia]==max_of_the_year).collect()\n",
    "#     edw apla to emfanizw\n",
    "#     df.select(col('GEO/TIME').alias(f'maxCity_{xronia}')).filter(df[xronia]==item).show()\n",
    "\n",
    "#   sto prwto perasma dimiourgo to neo dataframe\n",
    "    if iteration==0:\n",
    "        new_df = df.select(col('GEO/TIME').alias(f'maxCity_{xronia}')).filter(df[xronia]==max_of_the_year)\n",
    "#   sta ipoloipa perasmata afou exei dimiourgithei to dataframe, prosthetw apla tin antistoixi stili sto dataframe\n",
    "    else:\n",
    "#         new_df = new_df.withColumn(f'maxCity_{xronia}',lit(poli_df[0][0]))\n",
    "#         i timi tis nea stillis einai i xwra pou eixe to megisto, kai xrisimopoiw san literal ti timi tis max_city_of_the_year\n",
    "        new_df = new_df.withColumn(f'maxCity_{xronia}',lit(max_city_of_the_year))\n",
    "    iteration+=1\n",
    "\n",
    "#     print(f\"Item: {item}, Xronia: {xronia}\")\n",
    "#     max_year_dataframe = df.withColumn(xronia,item)\n",
    "\n",
    "new_df.show()"
   ]
  },
  {
   "cell_type": "code",
   "execution_count": 153,
   "metadata": {},
   "outputs": [
    {
     "name": "stdout",
     "output_type": "stream",
     "text": [
      "+--------------------+---------+---------+---------+---------+---------+---------+---------+---------+---------+---------+---------+\n",
      "|            GEO/TIME|     2006|     2007|     2008|     2009|     2010|     2011|     2012|     2013|     2014|     2015|  minimum|\n",
      "+--------------------+---------+---------+---------+---------+---------+---------+---------+---------+---------+---------+---------+\n",
      "|             Belgium| 16039090| 16271311| 16360702| 15451017| 16169676| 16723867| 16432646| 16511721| 17068872| 18852087| 15451017|\n",
      "|            Bulgaria| 11944694| 12006786| 11791454|  9460922| 10547112| 12426723| 13451440| 14370426| 14077798| 13352281|  9460922|\n",
      "|      Czech Republic| 20090348| 20610186| 19987022| 17746893| 18365947| 19424839| 21793985| 22144896| 22110112| 23286515| 17746893|\n",
      "|             Denmark|  9453026|  9327579|  8918197|  8299403|  8981992|  9491137|  9608124|  9914273| 10608119| 11171416|  8299403|\n",
      "|Germany (until 19...| 52947373| 54485379| 56239679| 54096574| 59658760| 63081467| 68161503| 71191942| 74805253| 78827773| 52947373|\n",
      "|             Estonia|  3020367|  2915456|  2932662|  2740696|  3203721|  3748865|  3823039|  3909326|  3919299|  3770207|  2740696|\n",
      "|             Ireland| 21652000|        0|        0|        0|        0|        0| 11839245| 10871806| 11276424| 13462348|        0|\n",
      "|              Greece| 43055381| 48081473| 47973949| 57413304| 59184397| 65514230| 61054383| 68992640| 74675156| 78254524| 43055381|\n",
      "|               Spain|224518083|225450241|223756216|200551728|213349649|239369167|243389006|252447766|259635794|269418103|200551728|\n",
      "|              France|105865432|108567043|106993811| 98705212|120390105|123227704|125038453|132251136|130908700|130464997| 98705212|\n",
      "|             Croatia| 32858014| 33701925| 33902735| 33357844| 33234882| 35389002| 57079967| 59378896| 61072661| 65683010| 32858014|\n",
      "|               Italy|156861341|163465680|161797434|159493866|165202498|176474062|180594988|184793382|186792507|192607930|156861341|\n",
      "|              Cyprus| 13310257| 13197004| 13208954| 11666663| 12448158| 13112596| 13488127| 13152589| 12884399| 12550320| 11666663|\n",
      "|              Latvia|  1872393|  1935984|  2115618|  1699562|  1912336|  2257021|  2429093|  2639434|  2875934|  2873885|  1699562|\n",
      "|           Lithuania|  1514197|  1609998|  1626829|  1395899|  1571325|  1883003|  2680048|  2906201|  3033826|  3010727|  1395899|\n",
      "|          Luxembourg|  2399913|  2328688|  2249545|  2075831|  1717130|  2057883|  2298068|  2313124|  2513585|  2655733|  1717130|\n",
      "|             Hungary| 10045891| 10170808| 10009531|  9220148|  9358373|  9920339| 11392183| 11982883| 12351330| 12962395|  9220148|\n",
      "|               Malta|  7094031|  7749831|  7581137|  6550794|  7208295|  7361449|  7498421|  8172407|  8428215|  8542055|  6550794|\n",
      "|         Netherlands| 26886500| 27952200| 25267600| 25013700| 26799800| 27739000| 27845942| 31770508| 34423552| 37297588| 25013700|\n",
      "|             Austria| 70017089| 71518637| 74730956| 72224605| 72585976| 73647325| 77158431| 78433546| 78099096| 80304956| 70017089|\n",
      "+--------------------+---------+---------+---------+---------+---------+---------+---------+---------+---------+---------+---------+\n",
      "only showing top 20 rows\n",
      "\n"
     ]
    }
   ],
   "source": [
    "# erotima 4\n",
    "from pyspark.sql.functions import least\n",
    "minimum_col = df.withColumn('minimum',least(col('2006'),col('2007'),col('2008'),col('2009'),col('2010'),col('2011'),col('2011'),col('2012'),col('2013'),col('2014'),col('2015')))\n",
    "minimum_col.show()"
   ]
  },
  {
   "cell_type": "code",
   "execution_count": 167,
   "metadata": {},
   "outputs": [
    {
     "name": "stdout",
     "output_type": "stream",
     "text": [
      "2009\n"
     ]
    }
   ],
   "source": [
    "df.collect()[0].asDict()\n",
    "for key,item in df.collect()[0].asDict().items():\n",
    "    if(item == 15451017):\n",
    "        year = key\n",
    "print(year)"
   ]
  },
  {
   "cell_type": "code",
   "execution_count": 26,
   "metadata": {},
   "outputs": [
    {
     "name": "stdout",
     "output_type": "stream",
     "text": [
      "+---------+---------+---------+---------+---------+---------+---------+---------+---------+---------+\n",
      "|max(2006)|max(2007)|max(2008)|max(2009)|max(2010)|max(2011)|max(2012)|max(2013)|max(2014)|max(2015)|\n",
      "+---------+---------+---------+---------+---------+---------+---------+---------+---------+---------+\n",
      "|224518083|225450241|223756216|200551728|213349649|239369167|243389006|252447766|259635794|269418103|\n",
      "+---------+---------+---------+---------+---------+---------+---------+---------+---------+---------+\n",
      "\n"
     ]
    }
   ],
   "source": [
    "from pyspark.sql.functions import *\n",
    "df.select(*(max(c) for c in df.columns[1:])).show()"
   ]
  },
  {
   "cell_type": "code",
   "execution_count": null,
   "metadata": {},
   "outputs": [],
   "source": [
    "# erotima 4\n",
    "df.withColumn('year_max_was_found',\n",
    "   F.when(F.col('2006') > F.col('colB'), 'colA').\n",
    "     otherwise('colB')).show()"
   ]
  },
  {
   "cell_type": "code",
   "execution_count": 83,
   "metadata": {},
   "outputs": [],
   "source": [
    "# df.withColumn('year_max_was_found',\n",
    "#    when(col('2006') > (*(col(c) for c in df.columns[2:])), '2006').\n",
    "#      otherwise('colB')).show()"
   ]
  },
  {
   "cell_type": "code",
   "execution_count": 30,
   "metadata": {},
   "outputs": [
    {
     "name": "stdout",
     "output_type": "stream",
     "text": [
      "+--------------------+---------+---------+---------+---------+---------+---------+---------+---------+---------+---------+--------------+\n",
      "|            GEO/TIME|     2006|     2007|     2008|     2009|     2010|     2011|     2012|     2013|     2014|     2015|year_min_found|\n",
      "+--------------------+---------+---------+---------+---------+---------+---------+---------+---------+---------+---------+--------------+\n",
      "|             Belgium| 16039090| 16271311| 16360702| 15451017| 16169676| 16723867| 16432646| 16511721| 17068872| 18852087|          2009|\n",
      "|            Bulgaria| 11944694| 12006786| 11791454|  9460922| 10547112| 12426723| 13451440| 14370426| 14077798| 13352281|          2009|\n",
      "|      Czech Republic| 20090348| 20610186| 19987022| 17746893| 18365947| 19424839| 21793985| 22144896| 22110112| 23286515|          2009|\n",
      "|             Denmark|  9453026|  9327579|  8918197|  8299403|  8981992|  9491137|  9608124|  9914273| 10608119| 11171416|          2009|\n",
      "|Germany (until 19...| 52947373| 54485379| 56239679| 54096574| 59658760| 63081467| 68161503| 71191942| 74805253| 78827773|          2006|\n",
      "|             Estonia|  3020367|  2915456|  2932662|  2740696|  3203721|  3748865|  3823039|  3909326|  3919299|  3770207|          2009|\n",
      "|             Ireland| 21652000|        0|        0|        0|        0|        0| 11839245| 10871806| 11276424| 13462348|             -|\n",
      "|              Greece| 43055381| 48081473| 47973949| 57413304| 59184397| 65514230| 61054383| 68992640| 74675156| 78254524|          2006|\n",
      "|               Spain|224518083|225450241|223756216|200551728|213349649|239369167|243389006|252447766|259635794|269418103|          2009|\n",
      "|              France|105865432|108567043|106993811| 98705212|120390105|123227704|125038453|132251136|130908700|130464997|          2009|\n",
      "|             Croatia| 32858014| 33701925| 33902735| 33357844| 33234882| 35389002| 57079967| 59378896| 61072661| 65683010|          2006|\n",
      "|               Italy|156861341|163465680|161797434|159493866|165202498|176474062|180594988|184793382|186792507|192607930|          2006|\n",
      "|              Cyprus| 13310257| 13197004| 13208954| 11666663| 12448158| 13112596| 13488127| 13152589| 12884399| 12550320|          2009|\n",
      "|              Latvia|  1872393|  1935984|  2115618|  1699562|  1912336|  2257021|  2429093|  2639434|  2875934|  2873885|          2009|\n",
      "|           Lithuania|  1514197|  1609998|  1626829|  1395899|  1571325|  1883003|  2680048|  2906201|  3033826|  3010727|          2009|\n",
      "|          Luxembourg|  2399913|  2328688|  2249545|  2075831|  1717130|  2057883|  2298068|  2313124|  2513585|  2655733|          2010|\n",
      "|             Hungary| 10045891| 10170808| 10009531|  9220148|  9358373|  9920339| 11392183| 11982883| 12351330| 12962395|          2009|\n",
      "|               Malta|  7094031|  7749831|  7581137|  6550794|  7208295|  7361449|  7498421|  8172407|  8428215|  8542055|          2009|\n",
      "|         Netherlands| 26886500| 27952200| 25267600| 25013700| 26799800| 27739000| 27845942| 31770508| 34423552| 37297588|          2009|\n",
      "|             Austria| 70017089| 71518637| 74730956| 72224605| 72585976| 73647325| 77158431| 78433546| 78099096| 80304956|          2006|\n",
      "+--------------------+---------+---------+---------+---------+---------+---------+---------+---------+---------+---------+--------------+\n",
      "only showing top 20 rows\n",
      "\n"
     ]
    }
   ],
   "source": [
    "# EROTIMA 4- ALLA ME XAZO TROPO!!\n",
    "# dimiourgw ti stili year_min_was_found i opoia krata ti xronia pou vrethike to elaxisto\n",
    "# kathe xronia tin sigkrinw me oles tis ipoloipes kai otan auti exei to mikrotero arithmo dianiktereusewn\n",
    "# xrisimopoiw ti timi tiw sti stili year_min_was_found\n",
    "df.withColumn('year_min_was_found',\n",
    "   when((col('2006') < col('2007')) & (col('2006')<col('2008')) & (col('2006')<col('2009')) & (col('2006')<col('2010')) & (col('2006')<col('2011')) & (col('2006')<col('2012')) & (col('2006')<col('2013')) & (col('2006')<col('2014')) & (col('2006')<col('2015')), '2006').\n",
    "   when((col('2007') < col('2006')) & (col('2007')<col('2008')) & (col('2007')<col('2009')) & (col('2007')<col('2010')) & (col('2007')<col('2011')) & (col('2007')<col('2012')) & (col('2007')<col('2013')) & (col('2007')<col('2014')) & (col('2007')<col('2015')),'2007').\n",
    "   when((col('2008') < col('2006')) & (col('2008')<col('2007')) & (col('2008')<col('2009')) & (col('2008')<col('2010')) & (col('2008')<col('2011')) & (col('2008')<col('2012')) & (col('2008')<col('2013')) & (col('2008')<col('2014')) & (col('2008')<col('2015')),'2008').\n",
    "   when((col('2009') < col('2006')) & (col('2009')<col('2007')) & (col('2009')<col('2008')) & (col('2009')<col('2010')) & (col('2009')<col('2011')) & (col('2009')<col('2012')) & (col('2009')<col('2013')) & (col('2009')<col('2014')) & (col('2009')<col('2015')),'2009').  \n",
    "   when((col('2010') < col('2006')) & (col('2010')<col('2007')) & (col('2010')<col('2008')) & (col('2010')<col('2009')) & (col('2010')<col('2011')) & (col('2010')<col('2012')) & (col('2010')<col('2013')) & (col('2010')<col('2014')) & (col('2010')<col('2015')),'2010').\n",
    "   when((col('2011') < col('2006')) & (col('2011')<col('2007')) & (col('2011')<col('2008')) & (col('2011')<col('2009')) & (col('2011')<col('2010')) & (col('2011')<col('2012')) & (col('2011')<col('2013')) & (col('2011')<col('2014')) & (col('2011')<col('2015')),'2011').\n",
    "   when((col('2012') < col('2006')) & (col('2012')<col('2007')) & (col('2012')<col('2008')) & (col('2012')<col('2009')) & (col('2012')<col('2010')) & (col('2012')<col('2011')) & (col('2012')<col('2013')) & (col('2012')<col('2014')) & (col('2012')<col('2015')),'2012').\n",
    "   when((col('2013') < col('2006')) & (col('2013')<col('2007')) & (col('2013')<col('2008')) & (col('2013')<col('2009')) & (col('2013')<col('2010')) & (col('2013')<col('2011')) & (col('2013')<col('2012')) & (col('2013')<col('2014')) & (col('2013')<col('2015')),'2013').\n",
    "   when((col('2014') < col('2006')) & (col('2014')<col('2007')) & (col('2014')<col('2008')) & (col('2014')<col('2009')) & (col('2014')<col('2010')) & (col('2014')<col('2011')) & (col('2014')<col('2012')) & (col('2014')<col('2013')) & (col('2014')<col('2015')),'2014').\n",
    "   when((col('2015') < col('2006')) & (col('2015')<col('2007')) & (col('2015')<col('2008')) & (col('2015')<col('2009')) & (col('2015')<col('2010')) & (col('2015')<col('2011')) & (col('2015')<col('2012')) & (col('2015')<col('2013')) & (col('2015')<col('2014')),'2015').\n",
    "   otherwise('more than one min')).show()\n",
    "# isws iparxei kaliteros tropos!"
   ]
  },
  {
   "cell_type": "code",
   "execution_count": 67,
   "metadata": {},
   "outputs": [],
   "source": [
    "# cols = df.columns\n",
    "def return_max(curr_year):\n",
    "    x = 5\n",
    "    if (x=5):\n",
    "        return 'Einai i 2006'\n",
    "    else:\n",
    "        return 'Den einai i 2006'\n",
    "#     cols = df.columns[1:]\n",
    "#     target = len(cols)-1\n",
    "#     count = 0\n",
    "#     for col in cols:\n",
    "#         if curr_year == col:\n",
    "#             continue\n",
    "#         else:\n",
    "#             if(curr_year>col):\n",
    "#                 count = count + 1\n",
    "# #     dld itan megalitero apo oles tis alles stiles\n",
    "#     if (count==target):\n",
    "#         return True\n",
    "#     else:\n",
    "#         return False\n",
    "            "
   ]
  },
  {
   "cell_type": "code",
   "execution_count": 68,
   "metadata": {},
   "outputs": [],
   "source": [
    "from pyspark.sql.types import BooleanType, StringType\n",
    "return_max_col_udf = udf(lambda x,z: return_max_col(x,z),StringType())"
   ]
  },
  {
   "cell_type": "code",
   "execution_count": 70,
   "metadata": {},
   "outputs": [
    {
     "ename": "Py4JJavaError",
     "evalue": "An error occurred while calling o616.showString.\n: org.apache.spark.SparkException: Job aborted due to stage failure: Task 0 in stage 26.0 failed 1 times, most recent failure: Lost task 0.0 in stage 26.0 (TID 26) (DESKTOP-GRQLJ30 executor driver): org.apache.spark.SparkException: Python worker failed to connect back.\r\n\tat org.apache.spark.api.python.PythonWorkerFactory.createSimpleWorker(PythonWorkerFactory.scala:182)\r\n\tat org.apache.spark.api.python.PythonWorkerFactory.create(PythonWorkerFactory.scala:107)\r\n\tat org.apache.spark.SparkEnv.createPythonWorker(SparkEnv.scala:119)\r\n\tat org.apache.spark.api.python.BasePythonRunner.compute(PythonRunner.scala:145)\r\n\tat org.apache.spark.sql.execution.python.BatchEvalPythonExec.evaluate(BatchEvalPythonExec.scala:70)\r\n\tat org.apache.spark.sql.execution.python.EvalPythonExec.$anonfun$doExecute$2(EvalPythonExec.scala:130)\r\n\tat org.apache.spark.rdd.RDD.$anonfun$mapPartitions$2(RDD.scala:863)\r\n\tat org.apache.spark.rdd.RDD.$anonfun$mapPartitions$2$adapted(RDD.scala:863)\r\n\tat org.apache.spark.rdd.MapPartitionsRDD.compute(MapPartitionsRDD.scala:52)\r\n\tat org.apache.spark.rdd.RDD.computeOrReadCheckpoint(RDD.scala:373)\r\n\tat org.apache.spark.rdd.RDD.iterator(RDD.scala:337)\r\n\tat org.apache.spark.rdd.MapPartitionsRDD.compute(MapPartitionsRDD.scala:52)\r\n\tat org.apache.spark.rdd.RDD.computeOrReadCheckpoint(RDD.scala:373)\r\n\tat org.apache.spark.rdd.RDD.iterator(RDD.scala:337)\r\n\tat org.apache.spark.rdd.MapPartitionsRDD.compute(MapPartitionsRDD.scala:52)\r\n\tat org.apache.spark.rdd.RDD.computeOrReadCheckpoint(RDD.scala:373)\r\n\tat org.apache.spark.rdd.RDD.iterator(RDD.scala:337)\r\n\tat org.apache.spark.scheduler.ResultTask.runTask(ResultTask.scala:90)\r\n\tat org.apache.spark.scheduler.Task.run(Task.scala:131)\r\n\tat org.apache.spark.executor.Executor$TaskRunner.$anonfun$run$3(Executor.scala:497)\r\n\tat org.apache.spark.util.Utils$.tryWithSafeFinally(Utils.scala:1439)\r\n\tat org.apache.spark.executor.Executor$TaskRunner.run(Executor.scala:500)\r\n\tat java.base/java.util.concurrent.ThreadPoolExecutor.runWorker(ThreadPoolExecutor.java:1128)\r\n\tat java.base/java.util.concurrent.ThreadPoolExecutor$Worker.run(ThreadPoolExecutor.java:628)\r\n\tat java.base/java.lang.Thread.run(Thread.java:835)\r\nCaused by: java.net.SocketTimeoutException: Accept timed out\r\n\tat java.base/java.net.PlainSocketImpl.waitForNewConnection(Native Method)\r\n\tat java.base/java.net.PlainSocketImpl.socketAccept(PlainSocketImpl.java:163)\r\n\tat java.base/java.net.AbstractPlainSocketImpl.accept(AbstractPlainSocketImpl.java:458)\r\n\tat java.base/java.net.ServerSocket.implAccept(ServerSocket.java:556)\r\n\tat java.base/java.net.ServerSocket.accept(ServerSocket.java:524)\r\n\tat org.apache.spark.api.python.PythonWorkerFactory.createSimpleWorker(PythonWorkerFactory.scala:174)\r\n\t... 24 more\r\n\nDriver stacktrace:\r\n\tat org.apache.spark.scheduler.DAGScheduler.failJobAndIndependentStages(DAGScheduler.scala:2253)\r\n\tat org.apache.spark.scheduler.DAGScheduler.$anonfun$abortStage$2(DAGScheduler.scala:2202)\r\n\tat org.apache.spark.scheduler.DAGScheduler.$anonfun$abortStage$2$adapted(DAGScheduler.scala:2201)\r\n\tat scala.collection.mutable.ResizableArray.foreach(ResizableArray.scala:62)\r\n\tat scala.collection.mutable.ResizableArray.foreach$(ResizableArray.scala:55)\r\n\tat scala.collection.mutable.ArrayBuffer.foreach(ArrayBuffer.scala:49)\r\n\tat org.apache.spark.scheduler.DAGScheduler.abortStage(DAGScheduler.scala:2201)\r\n\tat org.apache.spark.scheduler.DAGScheduler.$anonfun$handleTaskSetFailed$1(DAGScheduler.scala:1078)\r\n\tat org.apache.spark.scheduler.DAGScheduler.$anonfun$handleTaskSetFailed$1$adapted(DAGScheduler.scala:1078)\r\n\tat scala.Option.foreach(Option.scala:407)\r\n\tat org.apache.spark.scheduler.DAGScheduler.handleTaskSetFailed(DAGScheduler.scala:1078)\r\n\tat org.apache.spark.scheduler.DAGSchedulerEventProcessLoop.doOnReceive(DAGScheduler.scala:2440)\r\n\tat org.apache.spark.scheduler.DAGSchedulerEventProcessLoop.onReceive(DAGScheduler.scala:2382)\r\n\tat org.apache.spark.scheduler.DAGSchedulerEventProcessLoop.onReceive(DAGScheduler.scala:2371)\r\n\tat org.apache.spark.util.EventLoop$$anon$1.run(EventLoop.scala:49)\r\n\tat org.apache.spark.scheduler.DAGScheduler.runJob(DAGScheduler.scala:868)\r\n\tat org.apache.spark.SparkContext.runJob(SparkContext.scala:2202)\r\n\tat org.apache.spark.SparkContext.runJob(SparkContext.scala:2223)\r\n\tat org.apache.spark.SparkContext.runJob(SparkContext.scala:2242)\r\n\tat org.apache.spark.sql.execution.SparkPlan.executeTake(SparkPlan.scala:472)\r\n\tat org.apache.spark.sql.execution.SparkPlan.executeTake(SparkPlan.scala:425)\r\n\tat org.apache.spark.sql.execution.CollectLimitExec.executeCollect(limit.scala:47)\r\n\tat org.apache.spark.sql.Dataset.collectFromPlan(Dataset.scala:3696)\r\n\tat org.apache.spark.sql.Dataset.$anonfun$head$1(Dataset.scala:2722)\r\n\tat org.apache.spark.sql.Dataset.$anonfun$withAction$1(Dataset.scala:3687)\r\n\tat org.apache.spark.sql.execution.SQLExecution$.$anonfun$withNewExecutionId$5(SQLExecution.scala:103)\r\n\tat org.apache.spark.sql.execution.SQLExecution$.withSQLConfPropagated(SQLExecution.scala:163)\r\n\tat org.apache.spark.sql.execution.SQLExecution$.$anonfun$withNewExecutionId$1(SQLExecution.scala:90)\r\n\tat org.apache.spark.sql.SparkSession.withActive(SparkSession.scala:772)\r\n\tat org.apache.spark.sql.execution.SQLExecution$.withNewExecutionId(SQLExecution.scala:64)\r\n\tat org.apache.spark.sql.Dataset.withAction(Dataset.scala:3685)\r\n\tat org.apache.spark.sql.Dataset.head(Dataset.scala:2722)\r\n\tat org.apache.spark.sql.Dataset.take(Dataset.scala:2929)\r\n\tat org.apache.spark.sql.Dataset.getRows(Dataset.scala:301)\r\n\tat org.apache.spark.sql.Dataset.showString(Dataset.scala:338)\r\n\tat jdk.internal.reflect.GeneratedMethodAccessor63.invoke(Unknown Source)\r\n\tat java.base/jdk.internal.reflect.DelegatingMethodAccessorImpl.invoke(DelegatingMethodAccessorImpl.java:43)\r\n\tat java.base/java.lang.reflect.Method.invoke(Method.java:567)\r\n\tat py4j.reflection.MethodInvoker.invoke(MethodInvoker.java:244)\r\n\tat py4j.reflection.ReflectionEngine.invoke(ReflectionEngine.java:357)\r\n\tat py4j.Gateway.invoke(Gateway.java:282)\r\n\tat py4j.commands.AbstractCommand.invokeMethod(AbstractCommand.java:132)\r\n\tat py4j.commands.CallCommand.execute(CallCommand.java:79)\r\n\tat py4j.GatewayConnection.run(GatewayConnection.java:238)\r\n\tat java.base/java.lang.Thread.run(Thread.java:835)\r\nCaused by: org.apache.spark.SparkException: Python worker failed to connect back.\r\n\tat org.apache.spark.api.python.PythonWorkerFactory.createSimpleWorker(PythonWorkerFactory.scala:182)\r\n\tat org.apache.spark.api.python.PythonWorkerFactory.create(PythonWorkerFactory.scala:107)\r\n\tat org.apache.spark.SparkEnv.createPythonWorker(SparkEnv.scala:119)\r\n\tat org.apache.spark.api.python.BasePythonRunner.compute(PythonRunner.scala:145)\r\n\tat org.apache.spark.sql.execution.python.BatchEvalPythonExec.evaluate(BatchEvalPythonExec.scala:70)\r\n\tat org.apache.spark.sql.execution.python.EvalPythonExec.$anonfun$doExecute$2(EvalPythonExec.scala:130)\r\n\tat org.apache.spark.rdd.RDD.$anonfun$mapPartitions$2(RDD.scala:863)\r\n\tat org.apache.spark.rdd.RDD.$anonfun$mapPartitions$2$adapted(RDD.scala:863)\r\n\tat org.apache.spark.rdd.MapPartitionsRDD.compute(MapPartitionsRDD.scala:52)\r\n\tat org.apache.spark.rdd.RDD.computeOrReadCheckpoint(RDD.scala:373)\r\n\tat org.apache.spark.rdd.RDD.iterator(RDD.scala:337)\r\n\tat org.apache.spark.rdd.MapPartitionsRDD.compute(MapPartitionsRDD.scala:52)\r\n\tat org.apache.spark.rdd.RDD.computeOrReadCheckpoint(RDD.scala:373)\r\n\tat org.apache.spark.rdd.RDD.iterator(RDD.scala:337)\r\n\tat org.apache.spark.rdd.MapPartitionsRDD.compute(MapPartitionsRDD.scala:52)\r\n\tat org.apache.spark.rdd.RDD.computeOrReadCheckpoint(RDD.scala:373)\r\n\tat org.apache.spark.rdd.RDD.iterator(RDD.scala:337)\r\n\tat org.apache.spark.scheduler.ResultTask.runTask(ResultTask.scala:90)\r\n\tat org.apache.spark.scheduler.Task.run(Task.scala:131)\r\n\tat org.apache.spark.executor.Executor$TaskRunner.$anonfun$run$3(Executor.scala:497)\r\n\tat org.apache.spark.util.Utils$.tryWithSafeFinally(Utils.scala:1439)\r\n\tat org.apache.spark.executor.Executor$TaskRunner.run(Executor.scala:500)\r\n\tat java.base/java.util.concurrent.ThreadPoolExecutor.runWorker(ThreadPoolExecutor.java:1128)\r\n\tat java.base/java.util.concurrent.ThreadPoolExecutor$Worker.run(ThreadPoolExecutor.java:628)\r\n\t... 1 more\r\nCaused by: java.net.SocketTimeoutException: Accept timed out\r\n\tat java.base/java.net.PlainSocketImpl.waitForNewConnection(Native Method)\r\n\tat java.base/java.net.PlainSocketImpl.socketAccept(PlainSocketImpl.java:163)\r\n\tat java.base/java.net.AbstractPlainSocketImpl.accept(AbstractPlainSocketImpl.java:458)\r\n\tat java.base/java.net.ServerSocket.implAccept(ServerSocket.java:556)\r\n\tat java.base/java.net.ServerSocket.accept(ServerSocket.java:524)\r\n\tat org.apache.spark.api.python.PythonWorkerFactory.createSimpleWorker(PythonWorkerFactory.scala:174)\r\n\t... 24 more\r\n",
     "output_type": "error",
     "traceback": [
      "\u001b[1;31m---------------------------------------------------------------------------\u001b[0m",
      "\u001b[1;31mPy4JJavaError\u001b[0m                             Traceback (most recent call last)",
      "\u001b[1;32m<ipython-input-70-f3eed75227e0>\u001b[0m in \u001b[0;36m<module>\u001b[1;34m()\u001b[0m\n\u001b[0;32m      1\u001b[0m df.withColumn('year_max_was_found',\n\u001b[0;32m      2\u001b[0m    \u001b[0mwhen\u001b[0m\u001b[1;33m(\u001b[0m\u001b[0mreturn_max_col_udf\u001b[0m\u001b[1;33m(\u001b[0m\u001b[0mcol\u001b[0m\u001b[1;33m(\u001b[0m\u001b[1;34m'2006'\u001b[0m\u001b[1;33m)\u001b[0m\u001b[1;33m)\u001b[0m\u001b[1;33m==\u001b[0m\u001b[1;34m'Einai i 2006'\u001b[0m\u001b[1;33m,\u001b[0m \u001b[1;34m'2006'\u001b[0m\u001b[1;33m)\u001b[0m\u001b[1;33m.\u001b[0m\u001b[1;33m\u001b[0m\u001b[1;33m\u001b[0m\u001b[0m\n\u001b[1;32m----> 3\u001b[1;33m      otherwise('000')).show()\n\u001b[0m",
      "\u001b[1;32m~\\Anaconda3\\lib\\site-packages\\pyspark\\sql\\dataframe.py\u001b[0m in \u001b[0;36mshow\u001b[1;34m(self, n, truncate, vertical)\u001b[0m\n\u001b[0;32m    482\u001b[0m         \"\"\"\n\u001b[0;32m    483\u001b[0m         \u001b[1;32mif\u001b[0m \u001b[0misinstance\u001b[0m\u001b[1;33m(\u001b[0m\u001b[0mtruncate\u001b[0m\u001b[1;33m,\u001b[0m \u001b[0mbool\u001b[0m\u001b[1;33m)\u001b[0m \u001b[1;32mand\u001b[0m \u001b[0mtruncate\u001b[0m\u001b[1;33m:\u001b[0m\u001b[1;33m\u001b[0m\u001b[1;33m\u001b[0m\u001b[0m\n\u001b[1;32m--> 484\u001b[1;33m             \u001b[0mprint\u001b[0m\u001b[1;33m(\u001b[0m\u001b[0mself\u001b[0m\u001b[1;33m.\u001b[0m\u001b[0m_jdf\u001b[0m\u001b[1;33m.\u001b[0m\u001b[0mshowString\u001b[0m\u001b[1;33m(\u001b[0m\u001b[0mn\u001b[0m\u001b[1;33m,\u001b[0m \u001b[1;36m20\u001b[0m\u001b[1;33m,\u001b[0m \u001b[0mvertical\u001b[0m\u001b[1;33m)\u001b[0m\u001b[1;33m)\u001b[0m\u001b[1;33m\u001b[0m\u001b[1;33m\u001b[0m\u001b[0m\n\u001b[0m\u001b[0;32m    485\u001b[0m         \u001b[1;32melse\u001b[0m\u001b[1;33m:\u001b[0m\u001b[1;33m\u001b[0m\u001b[1;33m\u001b[0m\u001b[0m\n\u001b[0;32m    486\u001b[0m             \u001b[0mprint\u001b[0m\u001b[1;33m(\u001b[0m\u001b[0mself\u001b[0m\u001b[1;33m.\u001b[0m\u001b[0m_jdf\u001b[0m\u001b[1;33m.\u001b[0m\u001b[0mshowString\u001b[0m\u001b[1;33m(\u001b[0m\u001b[0mn\u001b[0m\u001b[1;33m,\u001b[0m \u001b[0mint\u001b[0m\u001b[1;33m(\u001b[0m\u001b[0mtruncate\u001b[0m\u001b[1;33m)\u001b[0m\u001b[1;33m,\u001b[0m \u001b[0mvertical\u001b[0m\u001b[1;33m)\u001b[0m\u001b[1;33m)\u001b[0m\u001b[1;33m\u001b[0m\u001b[1;33m\u001b[0m\u001b[0m\n",
      "\u001b[1;32m~\\Anaconda3\\lib\\site-packages\\py4j\\java_gateway.py\u001b[0m in \u001b[0;36m__call__\u001b[1;34m(self, *args)\u001b[0m\n\u001b[0;32m   1303\u001b[0m         \u001b[0manswer\u001b[0m \u001b[1;33m=\u001b[0m \u001b[0mself\u001b[0m\u001b[1;33m.\u001b[0m\u001b[0mgateway_client\u001b[0m\u001b[1;33m.\u001b[0m\u001b[0msend_command\u001b[0m\u001b[1;33m(\u001b[0m\u001b[0mcommand\u001b[0m\u001b[1;33m)\u001b[0m\u001b[1;33m\u001b[0m\u001b[1;33m\u001b[0m\u001b[0m\n\u001b[0;32m   1304\u001b[0m         return_value = get_return_value(\n\u001b[1;32m-> 1305\u001b[1;33m             answer, self.gateway_client, self.target_id, self.name)\n\u001b[0m\u001b[0;32m   1306\u001b[0m \u001b[1;33m\u001b[0m\u001b[0m\n\u001b[0;32m   1307\u001b[0m         \u001b[1;32mfor\u001b[0m \u001b[0mtemp_arg\u001b[0m \u001b[1;32min\u001b[0m \u001b[0mtemp_args\u001b[0m\u001b[1;33m:\u001b[0m\u001b[1;33m\u001b[0m\u001b[1;33m\u001b[0m\u001b[0m\n",
      "\u001b[1;32m~\\Anaconda3\\lib\\site-packages\\pyspark\\sql\\utils.py\u001b[0m in \u001b[0;36mdeco\u001b[1;34m(*a, **kw)\u001b[0m\n\u001b[0;32m    109\u001b[0m     \u001b[1;32mdef\u001b[0m \u001b[0mdeco\u001b[0m\u001b[1;33m(\u001b[0m\u001b[1;33m*\u001b[0m\u001b[0ma\u001b[0m\u001b[1;33m,\u001b[0m \u001b[1;33m**\u001b[0m\u001b[0mkw\u001b[0m\u001b[1;33m)\u001b[0m\u001b[1;33m:\u001b[0m\u001b[1;33m\u001b[0m\u001b[1;33m\u001b[0m\u001b[0m\n\u001b[0;32m    110\u001b[0m         \u001b[1;32mtry\u001b[0m\u001b[1;33m:\u001b[0m\u001b[1;33m\u001b[0m\u001b[1;33m\u001b[0m\u001b[0m\n\u001b[1;32m--> 111\u001b[1;33m             \u001b[1;32mreturn\u001b[0m \u001b[0mf\u001b[0m\u001b[1;33m(\u001b[0m\u001b[1;33m*\u001b[0m\u001b[0ma\u001b[0m\u001b[1;33m,\u001b[0m \u001b[1;33m**\u001b[0m\u001b[0mkw\u001b[0m\u001b[1;33m)\u001b[0m\u001b[1;33m\u001b[0m\u001b[1;33m\u001b[0m\u001b[0m\n\u001b[0m\u001b[0;32m    112\u001b[0m         \u001b[1;32mexcept\u001b[0m \u001b[0mpy4j\u001b[0m\u001b[1;33m.\u001b[0m\u001b[0mprotocol\u001b[0m\u001b[1;33m.\u001b[0m\u001b[0mPy4JJavaError\u001b[0m \u001b[1;32mas\u001b[0m \u001b[0me\u001b[0m\u001b[1;33m:\u001b[0m\u001b[1;33m\u001b[0m\u001b[1;33m\u001b[0m\u001b[0m\n\u001b[0;32m    113\u001b[0m             \u001b[0mconverted\u001b[0m \u001b[1;33m=\u001b[0m \u001b[0mconvert_exception\u001b[0m\u001b[1;33m(\u001b[0m\u001b[0me\u001b[0m\u001b[1;33m.\u001b[0m\u001b[0mjava_exception\u001b[0m\u001b[1;33m)\u001b[0m\u001b[1;33m\u001b[0m\u001b[1;33m\u001b[0m\u001b[0m\n",
      "\u001b[1;32m~\\Anaconda3\\lib\\site-packages\\py4j\\protocol.py\u001b[0m in \u001b[0;36mget_return_value\u001b[1;34m(answer, gateway_client, target_id, name)\u001b[0m\n\u001b[0;32m    326\u001b[0m                 raise Py4JJavaError(\n\u001b[0;32m    327\u001b[0m                     \u001b[1;34m\"An error occurred while calling {0}{1}{2}.\\n\"\u001b[0m\u001b[1;33m.\u001b[0m\u001b[1;33m\u001b[0m\u001b[1;33m\u001b[0m\u001b[0m\n\u001b[1;32m--> 328\u001b[1;33m                     format(target_id, \".\", name), value)\n\u001b[0m\u001b[0;32m    329\u001b[0m             \u001b[1;32melse\u001b[0m\u001b[1;33m:\u001b[0m\u001b[1;33m\u001b[0m\u001b[1;33m\u001b[0m\u001b[0m\n\u001b[0;32m    330\u001b[0m                 raise Py4JError(\n",
      "\u001b[1;31mPy4JJavaError\u001b[0m: An error occurred while calling o616.showString.\n: org.apache.spark.SparkException: Job aborted due to stage failure: Task 0 in stage 26.0 failed 1 times, most recent failure: Lost task 0.0 in stage 26.0 (TID 26) (DESKTOP-GRQLJ30 executor driver): org.apache.spark.SparkException: Python worker failed to connect back.\r\n\tat org.apache.spark.api.python.PythonWorkerFactory.createSimpleWorker(PythonWorkerFactory.scala:182)\r\n\tat org.apache.spark.api.python.PythonWorkerFactory.create(PythonWorkerFactory.scala:107)\r\n\tat org.apache.spark.SparkEnv.createPythonWorker(SparkEnv.scala:119)\r\n\tat org.apache.spark.api.python.BasePythonRunner.compute(PythonRunner.scala:145)\r\n\tat org.apache.spark.sql.execution.python.BatchEvalPythonExec.evaluate(BatchEvalPythonExec.scala:70)\r\n\tat org.apache.spark.sql.execution.python.EvalPythonExec.$anonfun$doExecute$2(EvalPythonExec.scala:130)\r\n\tat org.apache.spark.rdd.RDD.$anonfun$mapPartitions$2(RDD.scala:863)\r\n\tat org.apache.spark.rdd.RDD.$anonfun$mapPartitions$2$adapted(RDD.scala:863)\r\n\tat org.apache.spark.rdd.MapPartitionsRDD.compute(MapPartitionsRDD.scala:52)\r\n\tat org.apache.spark.rdd.RDD.computeOrReadCheckpoint(RDD.scala:373)\r\n\tat org.apache.spark.rdd.RDD.iterator(RDD.scala:337)\r\n\tat org.apache.spark.rdd.MapPartitionsRDD.compute(MapPartitionsRDD.scala:52)\r\n\tat org.apache.spark.rdd.RDD.computeOrReadCheckpoint(RDD.scala:373)\r\n\tat org.apache.spark.rdd.RDD.iterator(RDD.scala:337)\r\n\tat org.apache.spark.rdd.MapPartitionsRDD.compute(MapPartitionsRDD.scala:52)\r\n\tat org.apache.spark.rdd.RDD.computeOrReadCheckpoint(RDD.scala:373)\r\n\tat org.apache.spark.rdd.RDD.iterator(RDD.scala:337)\r\n\tat org.apache.spark.scheduler.ResultTask.runTask(ResultTask.scala:90)\r\n\tat org.apache.spark.scheduler.Task.run(Task.scala:131)\r\n\tat org.apache.spark.executor.Executor$TaskRunner.$anonfun$run$3(Executor.scala:497)\r\n\tat org.apache.spark.util.Utils$.tryWithSafeFinally(Utils.scala:1439)\r\n\tat org.apache.spark.executor.Executor$TaskRunner.run(Executor.scala:500)\r\n\tat java.base/java.util.concurrent.ThreadPoolExecutor.runWorker(ThreadPoolExecutor.java:1128)\r\n\tat java.base/java.util.concurrent.ThreadPoolExecutor$Worker.run(ThreadPoolExecutor.java:628)\r\n\tat java.base/java.lang.Thread.run(Thread.java:835)\r\nCaused by: java.net.SocketTimeoutException: Accept timed out\r\n\tat java.base/java.net.PlainSocketImpl.waitForNewConnection(Native Method)\r\n\tat java.base/java.net.PlainSocketImpl.socketAccept(PlainSocketImpl.java:163)\r\n\tat java.base/java.net.AbstractPlainSocketImpl.accept(AbstractPlainSocketImpl.java:458)\r\n\tat java.base/java.net.ServerSocket.implAccept(ServerSocket.java:556)\r\n\tat java.base/java.net.ServerSocket.accept(ServerSocket.java:524)\r\n\tat org.apache.spark.api.python.PythonWorkerFactory.createSimpleWorker(PythonWorkerFactory.scala:174)\r\n\t... 24 more\r\n\nDriver stacktrace:\r\n\tat org.apache.spark.scheduler.DAGScheduler.failJobAndIndependentStages(DAGScheduler.scala:2253)\r\n\tat org.apache.spark.scheduler.DAGScheduler.$anonfun$abortStage$2(DAGScheduler.scala:2202)\r\n\tat org.apache.spark.scheduler.DAGScheduler.$anonfun$abortStage$2$adapted(DAGScheduler.scala:2201)\r\n\tat scala.collection.mutable.ResizableArray.foreach(ResizableArray.scala:62)\r\n\tat scala.collection.mutable.ResizableArray.foreach$(ResizableArray.scala:55)\r\n\tat scala.collection.mutable.ArrayBuffer.foreach(ArrayBuffer.scala:49)\r\n\tat org.apache.spark.scheduler.DAGScheduler.abortStage(DAGScheduler.scala:2201)\r\n\tat org.apache.spark.scheduler.DAGScheduler.$anonfun$handleTaskSetFailed$1(DAGScheduler.scala:1078)\r\n\tat org.apache.spark.scheduler.DAGScheduler.$anonfun$handleTaskSetFailed$1$adapted(DAGScheduler.scala:1078)\r\n\tat scala.Option.foreach(Option.scala:407)\r\n\tat org.apache.spark.scheduler.DAGScheduler.handleTaskSetFailed(DAGScheduler.scala:1078)\r\n\tat org.apache.spark.scheduler.DAGSchedulerEventProcessLoop.doOnReceive(DAGScheduler.scala:2440)\r\n\tat org.apache.spark.scheduler.DAGSchedulerEventProcessLoop.onReceive(DAGScheduler.scala:2382)\r\n\tat org.apache.spark.scheduler.DAGSchedulerEventProcessLoop.onReceive(DAGScheduler.scala:2371)\r\n\tat org.apache.spark.util.EventLoop$$anon$1.run(EventLoop.scala:49)\r\n\tat org.apache.spark.scheduler.DAGScheduler.runJob(DAGScheduler.scala:868)\r\n\tat org.apache.spark.SparkContext.runJob(SparkContext.scala:2202)\r\n\tat org.apache.spark.SparkContext.runJob(SparkContext.scala:2223)\r\n\tat org.apache.spark.SparkContext.runJob(SparkContext.scala:2242)\r\n\tat org.apache.spark.sql.execution.SparkPlan.executeTake(SparkPlan.scala:472)\r\n\tat org.apache.spark.sql.execution.SparkPlan.executeTake(SparkPlan.scala:425)\r\n\tat org.apache.spark.sql.execution.CollectLimitExec.executeCollect(limit.scala:47)\r\n\tat org.apache.spark.sql.Dataset.collectFromPlan(Dataset.scala:3696)\r\n\tat org.apache.spark.sql.Dataset.$anonfun$head$1(Dataset.scala:2722)\r\n\tat org.apache.spark.sql.Dataset.$anonfun$withAction$1(Dataset.scala:3687)\r\n\tat org.apache.spark.sql.execution.SQLExecution$.$anonfun$withNewExecutionId$5(SQLExecution.scala:103)\r\n\tat org.apache.spark.sql.execution.SQLExecution$.withSQLConfPropagated(SQLExecution.scala:163)\r\n\tat org.apache.spark.sql.execution.SQLExecution$.$anonfun$withNewExecutionId$1(SQLExecution.scala:90)\r\n\tat org.apache.spark.sql.SparkSession.withActive(SparkSession.scala:772)\r\n\tat org.apache.spark.sql.execution.SQLExecution$.withNewExecutionId(SQLExecution.scala:64)\r\n\tat org.apache.spark.sql.Dataset.withAction(Dataset.scala:3685)\r\n\tat org.apache.spark.sql.Dataset.head(Dataset.scala:2722)\r\n\tat org.apache.spark.sql.Dataset.take(Dataset.scala:2929)\r\n\tat org.apache.spark.sql.Dataset.getRows(Dataset.scala:301)\r\n\tat org.apache.spark.sql.Dataset.showString(Dataset.scala:338)\r\n\tat jdk.internal.reflect.GeneratedMethodAccessor63.invoke(Unknown Source)\r\n\tat java.base/jdk.internal.reflect.DelegatingMethodAccessorImpl.invoke(DelegatingMethodAccessorImpl.java:43)\r\n\tat java.base/java.lang.reflect.Method.invoke(Method.java:567)\r\n\tat py4j.reflection.MethodInvoker.invoke(MethodInvoker.java:244)\r\n\tat py4j.reflection.ReflectionEngine.invoke(ReflectionEngine.java:357)\r\n\tat py4j.Gateway.invoke(Gateway.java:282)\r\n\tat py4j.commands.AbstractCommand.invokeMethod(AbstractCommand.java:132)\r\n\tat py4j.commands.CallCommand.execute(CallCommand.java:79)\r\n\tat py4j.GatewayConnection.run(GatewayConnection.java:238)\r\n\tat java.base/java.lang.Thread.run(Thread.java:835)\r\nCaused by: org.apache.spark.SparkException: Python worker failed to connect back.\r\n\tat org.apache.spark.api.python.PythonWorkerFactory.createSimpleWorker(PythonWorkerFactory.scala:182)\r\n\tat org.apache.spark.api.python.PythonWorkerFactory.create(PythonWorkerFactory.scala:107)\r\n\tat org.apache.spark.SparkEnv.createPythonWorker(SparkEnv.scala:119)\r\n\tat org.apache.spark.api.python.BasePythonRunner.compute(PythonRunner.scala:145)\r\n\tat org.apache.spark.sql.execution.python.BatchEvalPythonExec.evaluate(BatchEvalPythonExec.scala:70)\r\n\tat org.apache.spark.sql.execution.python.EvalPythonExec.$anonfun$doExecute$2(EvalPythonExec.scala:130)\r\n\tat org.apache.spark.rdd.RDD.$anonfun$mapPartitions$2(RDD.scala:863)\r\n\tat org.apache.spark.rdd.RDD.$anonfun$mapPartitions$2$adapted(RDD.scala:863)\r\n\tat org.apache.spark.rdd.MapPartitionsRDD.compute(MapPartitionsRDD.scala:52)\r\n\tat org.apache.spark.rdd.RDD.computeOrReadCheckpoint(RDD.scala:373)\r\n\tat org.apache.spark.rdd.RDD.iterator(RDD.scala:337)\r\n\tat org.apache.spark.rdd.MapPartitionsRDD.compute(MapPartitionsRDD.scala:52)\r\n\tat org.apache.spark.rdd.RDD.computeOrReadCheckpoint(RDD.scala:373)\r\n\tat org.apache.spark.rdd.RDD.iterator(RDD.scala:337)\r\n\tat org.apache.spark.rdd.MapPartitionsRDD.compute(MapPartitionsRDD.scala:52)\r\n\tat org.apache.spark.rdd.RDD.computeOrReadCheckpoint(RDD.scala:373)\r\n\tat org.apache.spark.rdd.RDD.iterator(RDD.scala:337)\r\n\tat org.apache.spark.scheduler.ResultTask.runTask(ResultTask.scala:90)\r\n\tat org.apache.spark.scheduler.Task.run(Task.scala:131)\r\n\tat org.apache.spark.executor.Executor$TaskRunner.$anonfun$run$3(Executor.scala:497)\r\n\tat org.apache.spark.util.Utils$.tryWithSafeFinally(Utils.scala:1439)\r\n\tat org.apache.spark.executor.Executor$TaskRunner.run(Executor.scala:500)\r\n\tat java.base/java.util.concurrent.ThreadPoolExecutor.runWorker(ThreadPoolExecutor.java:1128)\r\n\tat java.base/java.util.concurrent.ThreadPoolExecutor$Worker.run(ThreadPoolExecutor.java:628)\r\n\t... 1 more\r\nCaused by: java.net.SocketTimeoutException: Accept timed out\r\n\tat java.base/java.net.PlainSocketImpl.waitForNewConnection(Native Method)\r\n\tat java.base/java.net.PlainSocketImpl.socketAccept(PlainSocketImpl.java:163)\r\n\tat java.base/java.net.AbstractPlainSocketImpl.accept(AbstractPlainSocketImpl.java:458)\r\n\tat java.base/java.net.ServerSocket.implAccept(ServerSocket.java:556)\r\n\tat java.base/java.net.ServerSocket.accept(ServerSocket.java:524)\r\n\tat org.apache.spark.api.python.PythonWorkerFactory.createSimpleWorker(PythonWorkerFactory.scala:174)\r\n\t... 24 more\r\n"
     ]
    }
   ],
   "source": [
    "df.withColumn('year_max_was_found',\n",
    "   when(return_max_col_udf(col('2006'))=='Einai i 2006', '2006').\n",
    "     otherwise('000')).show()"
   ]
  },
  {
   "cell_type": "code",
   "execution_count": 58,
   "metadata": {},
   "outputs": [
    {
     "name": "stdout",
     "output_type": "stream",
     "text": [
      "+--------------------+---------+---------+---------+---------+---------+---------+---------+---------+---------+---------+\n",
      "|            GEO/TIME|     2006|     2007|     2008|     2009|     2010|     2011|     2012|     2013|     2014|     2015|\n",
      "+--------------------+---------+---------+---------+---------+---------+---------+---------+---------+---------+---------+\n",
      "|             Belgium| 16039090| 16271311| 16360702| 15451017| 16169676| 16723867| 16432646| 16511721| 17068872| 18852087|\n",
      "|            Bulgaria| 11944694| 12006786| 11791454|  9460922| 10547112| 12426723| 13451440| 14370426| 14077798| 13352281|\n",
      "|      Czech Republic| 20090348| 20610186| 19987022| 17746893| 18365947| 19424839| 21793985| 22144896| 22110112| 23286515|\n",
      "|             Denmark|  9453026|  9327579|  8918197|  8299403|  8981992|  9491137|  9608124|  9914273| 10608119| 11171416|\n",
      "|Germany (until 19...| 52947373| 54485379| 56239679| 54096574| 59658760| 63081467| 68161503| 71191942| 74805253| 78827773|\n",
      "|             Estonia|  3020367|  2915456|  2932662|  2740696|  3203721|  3748865|  3823039|  3909326|  3919299|  3770207|\n",
      "|             Ireland| 21652000|        0|        0|        0|        0|        0| 11839245| 10871806| 11276424| 13462348|\n",
      "|              Greece| 43055381| 48081473| 47973949| 57413304| 59184397| 65514230| 61054383| 68992640| 74675156| 78254524|\n",
      "|               Spain|224518083|225450241|223756216|200551728|213349649|239369167|243389006|252447766|259635794|269418103|\n",
      "|              France|105865432|108567043|106993811| 98705212|120390105|123227704|125038453|132251136|130908700|130464997|\n",
      "|             Croatia| 32858014| 33701925| 33902735| 33357844| 33234882| 35389002| 57079967| 59378896| 61072661| 65683010|\n",
      "|               Italy|156861341|163465680|161797434|159493866|165202498|176474062|180594988|184793382|186792507|192607930|\n",
      "|              Cyprus| 13310257| 13197004| 13208954| 11666663| 12448158| 13112596| 13488127| 13152589| 12884399| 12550320|\n",
      "|              Latvia|  1872393|  1935984|  2115618|  1699562|  1912336|  2257021|  2429093|  2639434|  2875934|  2873885|\n",
      "|           Lithuania|  1514197|  1609998|  1626829|  1395899|  1571325|  1883003|  2680048|  2906201|  3033826|  3010727|\n",
      "|          Luxembourg|  2399913|  2328688|  2249545|  2075831|  1717130|  2057883|  2298068|  2313124|  2513585|  2655733|\n",
      "|             Hungary| 10045891| 10170808| 10009531|  9220148|  9358373|  9920339| 11392183| 11982883| 12351330| 12962395|\n",
      "|               Malta|  7094031|  7749831|  7581137|  6550794|  7208295|  7361449|  7498421|  8172407|  8428215|  8542055|\n",
      "|         Netherlands| 26886500| 27952200| 25267600| 25013700| 26799800| 27739000| 27845942| 31770508| 34423552| 37297588|\n",
      "|             Austria| 70017089| 71518637| 74730956| 72224605| 72585976| 73647325| 77158431| 78433546| 78099096| 80304956|\n",
      "+--------------------+---------+---------+---------+---------+---------+---------+---------+---------+---------+---------+\n",
      "only showing top 20 rows\n",
      "\n"
     ]
    }
   ],
   "source": [
    "df.show()"
   ]
  },
  {
   "cell_type": "code",
   "execution_count": null,
   "metadata": {},
   "outputs": [],
   "source": []
  },
  {
   "cell_type": "code",
   "execution_count": 24,
   "metadata": {},
   "outputs": [
    {
     "name": "stdout",
     "output_type": "stream",
     "text": [
      "+--------+--------+--------+--------+--------+--------+--------+--------+--------+--------+--------+----------------+\n",
      "|GEO/TIME|    2006|    2007|    2008|    2009|    2010|    2011|    2012|    2013|    2014|    2015|         max_val|\n",
      "+--------+--------+--------+--------+--------+--------+--------+--------+--------+--------+--------+----------------+\n",
      "| Belgium|16039090|16271311|16360702|15451017|16169676|16723867|16432646|16511721|17068872|18852087|[2006, 16039090]|\n",
      "| Belgium|16039090|16271311|16360702|15451017|16169676|16723867|16432646|16511721|17068872|18852087|[2007, 16271311]|\n",
      "| Belgium|16039090|16271311|16360702|15451017|16169676|16723867|16432646|16511721|17068872|18852087|[2008, 16360702]|\n",
      "| Belgium|16039090|16271311|16360702|15451017|16169676|16723867|16432646|16511721|17068872|18852087|[2009, 15451017]|\n",
      "| Belgium|16039090|16271311|16360702|15451017|16169676|16723867|16432646|16511721|17068872|18852087|[2010, 16169676]|\n",
      "| Belgium|16039090|16271311|16360702|15451017|16169676|16723867|16432646|16511721|17068872|18852087|[2011, 16723867]|\n",
      "| Belgium|16039090|16271311|16360702|15451017|16169676|16723867|16432646|16511721|17068872|18852087|[2012, 16432646]|\n",
      "| Belgium|16039090|16271311|16360702|15451017|16169676|16723867|16432646|16511721|17068872|18852087|[2013, 16511721]|\n",
      "| Belgium|16039090|16271311|16360702|15451017|16169676|16723867|16432646|16511721|17068872|18852087|[2014, 17068872]|\n",
      "| Belgium|16039090|16271311|16360702|15451017|16169676|16723867|16432646|16511721|17068872|18852087|[2015, 18852087]|\n",
      "|Bulgaria|11944694|12006786|11791454| 9460922|10547112|12426723|13451440|14370426|14077798|13352281|[2006, 11944694]|\n",
      "|Bulgaria|11944694|12006786|11791454| 9460922|10547112|12426723|13451440|14370426|14077798|13352281|[2007, 12006786]|\n",
      "|Bulgaria|11944694|12006786|11791454| 9460922|10547112|12426723|13451440|14370426|14077798|13352281|[2008, 11791454]|\n",
      "|Bulgaria|11944694|12006786|11791454| 9460922|10547112|12426723|13451440|14370426|14077798|13352281| [2009, 9460922]|\n",
      "|Bulgaria|11944694|12006786|11791454| 9460922|10547112|12426723|13451440|14370426|14077798|13352281|[2010, 10547112]|\n",
      "|Bulgaria|11944694|12006786|11791454| 9460922|10547112|12426723|13451440|14370426|14077798|13352281|[2011, 12426723]|\n",
      "|Bulgaria|11944694|12006786|11791454| 9460922|10547112|12426723|13451440|14370426|14077798|13352281|[2012, 13451440]|\n",
      "|Bulgaria|11944694|12006786|11791454| 9460922|10547112|12426723|13451440|14370426|14077798|13352281|[2013, 14370426]|\n",
      "|Bulgaria|11944694|12006786|11791454| 9460922|10547112|12426723|13451440|14370426|14077798|13352281|[2014, 14077798]|\n",
      "|Bulgaria|11944694|12006786|11791454| 9460922|10547112|12426723|13451440|14370426|14077798|13352281|[2015, 13352281]|\n",
      "+--------+--------+--------+--------+--------+--------+--------+--------+--------+--------+--------+----------------+\n",
      "only showing top 20 rows\n",
      "\n"
     ]
    }
   ],
   "source": [
    "from pyspark.sql.window import Window as W\n",
    "from pyspark.sql import types as T\n",
    "\n",
    "df = df.withColumn(\n",
    "    \"max_val\",\n",
    "    explode(\n",
    "        array([\n",
    "            array([lit(cl), col(cl)]) for cl in df.columns[1:]\n",
    "        ])\n",
    "    )\n",
    ")\n",
    "df.show()"
   ]
  },
  {
   "cell_type": "code",
   "execution_count": 25,
   "metadata": {},
   "outputs": [
    {
     "name": "stdout",
     "output_type": "stream",
     "text": [
      "+--------+--------+--------+--------+--------+--------+--------+--------+--------+--------+--------+------------------+---------+\n",
      "|GEO/TIME|    2006|    2007|    2008|    2009|    2010|    2011|    2012|    2013|    2014|    2015|year_max_was_found|col_value|\n",
      "+--------+--------+--------+--------+--------+--------+--------+--------+--------+--------+--------+------------------+---------+\n",
      "| Belgium|16039090|16271311|16360702|15451017|16169676|16723867|16432646|16511721|17068872|18852087|              2006| 16039090|\n",
      "| Belgium|16039090|16271311|16360702|15451017|16169676|16723867|16432646|16511721|17068872|18852087|              2007| 16271311|\n",
      "| Belgium|16039090|16271311|16360702|15451017|16169676|16723867|16432646|16511721|17068872|18852087|              2008| 16360702|\n",
      "| Belgium|16039090|16271311|16360702|15451017|16169676|16723867|16432646|16511721|17068872|18852087|              2009| 15451017|\n",
      "| Belgium|16039090|16271311|16360702|15451017|16169676|16723867|16432646|16511721|17068872|18852087|              2010| 16169676|\n",
      "| Belgium|16039090|16271311|16360702|15451017|16169676|16723867|16432646|16511721|17068872|18852087|              2011| 16723867|\n",
      "| Belgium|16039090|16271311|16360702|15451017|16169676|16723867|16432646|16511721|17068872|18852087|              2012| 16432646|\n",
      "| Belgium|16039090|16271311|16360702|15451017|16169676|16723867|16432646|16511721|17068872|18852087|              2013| 16511721|\n",
      "| Belgium|16039090|16271311|16360702|15451017|16169676|16723867|16432646|16511721|17068872|18852087|              2014| 17068872|\n",
      "| Belgium|16039090|16271311|16360702|15451017|16169676|16723867|16432646|16511721|17068872|18852087|              2015| 18852087|\n",
      "|Bulgaria|11944694|12006786|11791454| 9460922|10547112|12426723|13451440|14370426|14077798|13352281|              2006| 11944694|\n",
      "|Bulgaria|11944694|12006786|11791454| 9460922|10547112|12426723|13451440|14370426|14077798|13352281|              2007| 12006786|\n",
      "|Bulgaria|11944694|12006786|11791454| 9460922|10547112|12426723|13451440|14370426|14077798|13352281|              2008| 11791454|\n",
      "|Bulgaria|11944694|12006786|11791454| 9460922|10547112|12426723|13451440|14370426|14077798|13352281|              2009|  9460922|\n",
      "|Bulgaria|11944694|12006786|11791454| 9460922|10547112|12426723|13451440|14370426|14077798|13352281|              2010| 10547112|\n",
      "|Bulgaria|11944694|12006786|11791454| 9460922|10547112|12426723|13451440|14370426|14077798|13352281|              2011| 12426723|\n",
      "|Bulgaria|11944694|12006786|11791454| 9460922|10547112|12426723|13451440|14370426|14077798|13352281|              2012| 13451440|\n",
      "|Bulgaria|11944694|12006786|11791454| 9460922|10547112|12426723|13451440|14370426|14077798|13352281|              2013| 14370426|\n",
      "|Bulgaria|11944694|12006786|11791454| 9460922|10547112|12426723|13451440|14370426|14077798|13352281|              2014| 14077798|\n",
      "|Bulgaria|11944694|12006786|11791454| 9460922|10547112|12426723|13451440|14370426|14077798|13352281|              2015| 13352281|\n",
      "+--------+--------+--------+--------+--------+--------+--------+--------+--------+--------+--------+------------------+---------+\n",
      "only showing top 20 rows\n",
      "\n"
     ]
    }
   ],
   "source": [
    "df = df.select(\n",
    "    \"GEO/TIME\", \n",
    "    \"2006\", \n",
    "    \"2007\",\n",
    "    \"2008\",\n",
    "    \"2009\",\n",
    "    \"2010\",\n",
    "    \"2011\",\n",
    "    \"2012\",\n",
    "    \"2013\",\n",
    "    \"2014\",\n",
    "    \"2015\",\n",
    "    col(\"max_val\").getItem(0).alias(\"year_max_was_found\"),\n",
    "    col(\"max_val\").getItem(1).cast(T.IntegerType()).alias(\"col_value\"),\n",
    ")\n",
    "df.show()"
   ]
  },
  {
   "cell_type": "code",
   "execution_count": null,
   "metadata": {},
   "outputs": [],
   "source": []
  },
  {
   "cell_type": "code",
   "execution_count": null,
   "metadata": {},
   "outputs": [],
   "source": []
  },
  {
   "cell_type": "code",
   "execution_count": 180,
   "metadata": {},
   "outputs": [
    {
     "name": "stdout",
     "output_type": "stream",
     "text": [
      "[Row(GEO/TIME='Belgium', 2006=16039090, 2007=16271311, 2008=16360702, 2009=15451017, 2010=16169676, 2011=16723867, 2012=16432646, 2013=16511721, 2014=17068872, 2015=18852087), Row(GEO/TIME='France', 2006=105865432, 2007=108567043, 2008=106993811, 2009=98705212, 2010=120390105, 2011=123227704, 2012=125038453, 2013=132251136, 2014=130908700, 2015=130464997), Row(GEO/TIME='Croatia', 2006=32858014, 2007=33701925, 2008=33902735, 2009=33357844, 2010=33234882, 2011=35389002, 2012=57079967, 2013=59378896, 2014=61072661, 2015=65683010), Row(GEO/TIME='Italy', 2006=156861341, 2007=163465680, 2008=161797434, 2009=159493866, 2010=165202498, 2011=176474062, 2012=180594988, 2013=184793382, 2014=186792507, 2015=192607930), Row(GEO/TIME='Cyprus', 2006=13310257, 2007=13197004, 2008=13208954, 2009=11666663, 2010=12448158, 2011=13112596, 2012=13488127, 2013=13152589, 2014=12884399, 2015=12550320)]\n"
     ]
    }
   ],
   "source": [
    "countries = ['Belgium','France', 'Croatia','Italy','Cyprus']\n",
    "selected_countries_data = list()\n",
    "greece_data = df.filter(df['GEO/TIME']=='Greece').collect()[0]\n",
    "for country in countries:\n",
    "    selected_countries_data.append(df.filter(df['GEO/TIME']==country).collect()[0])\n",
    "print(selected_countries_data)"
   ]
  },
  {
   "cell_type": "code",
   "execution_count": 186,
   "metadata": {},
   "outputs": [
    {
     "name": "stdout",
     "output_type": "stream",
     "text": [
      "{'Belgium': [1, 2, 3, 4, 5, 6, 7, 8, 9, 10], 'France': [], 'Croatia': [1, 2, 3, 4, 5, 6, 7, 8, 9, 10], 'Italy': [], 'Cyprus': [1, 2, 3, 4, 5, 6, 7, 8, 9, 10]}\n",
      "Sinolika oi xronies pou i Ellada ta pige kalitera:  30\n"
     ]
    }
   ],
   "source": [
    "counter = 0 # poses xwres\n",
    "better_years_for_greece_per_country = {'Belgium': [],'France':[],'Croatia':[],'Italy':[],'Cyprus':[]} # krataei tis xronies gia kathe xwra\n",
    "for row in selected_countries_data:\n",
    "        for year in range(1,len(row)):\n",
    "#             print(row[year])\n",
    "                if greece_data[year]>row[year]:\n",
    "                    better_years_for_greece_per_country[row[0]].append(year)\n",
    "                    counter = counter + 1\n",
    "print(better_years_for_greece_per_country)\n",
    "print(\"Sinolika oi xronies pou i Ellada ta pige kalitera: \", counter)"
   ]
  },
  {
   "cell_type": "code",
   "execution_count": 185,
   "metadata": {},
   "outputs": [
    {
     "name": "stdout",
     "output_type": "stream",
     "text": [
      "16039090\n",
      "105865432\n",
      "32858014\n",
      "156861341\n",
      "13310257\n"
     ]
    }
   ],
   "source": [
    "for row in selected_countries_data:\n",
    "    print(row)"
   ]
  },
  {
   "cell_type": "markdown",
   "metadata": {},
   "source": [
    "### MEROS B"
   ]
  },
  {
   "cell_type": "code",
   "execution_count": 10,
   "metadata": {},
   "outputs": [],
   "source": [
    "import pandas as pd\n",
    "# ta onomata stilwn vriskontai sti prwti grammi 1\n",
    "tour_data = pd.read_excel(\"international_tourist_arrivals.xlsx\",header=1)\n",
    "tour_data.head()\n",
    "# metatrwpw to arxeio se .csv xwris tin arithmisi twn grammw\n",
    "tour_data.to_csv(\"international_tourist_arrivals.csv\",index=False)"
   ]
  },
  {
   "cell_type": "code",
   "execution_count": 55,
   "metadata": {},
   "outputs": [
    {
     "name": "stdout",
     "output_type": "stream",
     "text": [
      "+--------------------+-----+-----+-----+-----+-----+-----+-----+\n",
      "|              Region| 1990| 1995| 2000| 2005| 2010| 2014| 2015|\n",
      "+--------------------+-----+-----+-----+-----+-----+-----+-----+\n",
      "|             Europe | null| null| null| null| null| null| null|\n",
      "|    Northern Europe | 28.7| 36.4| 44.8| 59.9| 62.8| 70.8| 75.9|\n",
      "|     Western Europe |108.6|112.2|139.7|141.7|154.4|174.4|180.0|\n",
      "|Central/Eastern E...| 33.9| 57.9| 69.6| 95.3| 98.9|120.2|126.6|\n",
      "|Southern/Medit. E...| 90.3| 98.0|132.6|156.4|173.3|214.8|225.2|\n",
      "|Asia and the Paci...| null| null| null| null| null| null| null|\n",
      "|    North-East Asia | 26.4| 41.3| 58.3| 85.9|111.5|136.3|142.1|\n",
      "|    South-East Asia | 21.2| 28.5| 36.3| 49.0| 70.5| 97.3|104.6|\n",
      "|            Oceania |  5.2|  8.1|  9.6| 10.9| 11.4| 13.3| 14.2|\n",
      "|         South Asia |  3.2|  4.2|  6.1|  8.2| 12.1| 17.5| 18.3|\n",
      "|           Americas | null| null| null| null| null| null| null|\n",
      "|      North America | 71.8| 80.5| 91.5| 89.9| 99.5|120.9|127.6|\n",
      "|          Caribbean | 11.4| 14.0| 17.1| 18.8| 19.5| 22.3| 23.9|\n",
      "|    Central America |  1.9|  2.6|  4.3|  6.3|  7.9|  9.6| 10.3|\n",
      "|      South America |  7.7| 11.7| 15.3| 18.3| 23.2| 29.1| 30.8|\n",
      "|             Africa | null| null| null| null| null| null| null|\n",
      "|       North Africa |  8.4|  7.3| 10.2| 13.9| 19.7| 20.4| 18.0|\n",
      "|  Subsaharan Africa |  6.4| 11.5| 16.0| 20.9| 30.7| 34.9| 35.4|\n",
      "|        Middle East |  9.6| 12.7| 22.4| 33.7| 54.7| 52.4| 53.3|\n",
      "+--------------------+-----+-----+-----+-----+-----+-----+-----+\n",
      "\n"
     ]
    }
   ],
   "source": [
    "# kataskeuazw to dataframe apo to csv arxeio sto pyspark\n",
    "df = spark.read.option(\"header\",\"true\").load(\"international_tourist_arrivals.csv\",format='csv')\n",
    "# metanomozw tin prwti stili pou den periexei onoma!\n",
    "df = df.withColumnRenamed('Unnamed: 0','Region')\n",
    "df.show()"
   ]
  },
  {
   "cell_type": "code",
   "execution_count": 56,
   "metadata": {},
   "outputs": [
    {
     "name": "stdout",
     "output_type": "stream",
     "text": [
      "root\n",
      " |-- Region: string (nullable = true)\n",
      " |-- 1990: string (nullable = true)\n",
      " |-- 1995: string (nullable = true)\n",
      " |-- 2000: string (nullable = true)\n",
      " |-- 2005: string (nullable = true)\n",
      " |-- 2010: string (nullable = true)\n",
      " |-- 2014: string (nullable = true)\n",
      " |-- 2015: string (nullable = true)\n",
      "\n"
     ]
    }
   ],
   "source": [
    "df.printSchema()"
   ]
  },
  {
   "cell_type": "code",
   "execution_count": 57,
   "metadata": {},
   "outputs": [
    {
     "name": "stdout",
     "output_type": "stream",
     "text": [
      "root\n",
      " |-- Region: string (nullable = true)\n",
      " |-- 1990: float (nullable = true)\n",
      " |-- 1995: float (nullable = true)\n",
      " |-- 2000: float (nullable = true)\n",
      " |-- 2005: float (nullable = true)\n",
      " |-- 2010: float (nullable = true)\n",
      " |-- 2014: float (nullable = true)\n",
      " |-- 2015: float (nullable = true)\n",
      "\n"
     ]
    }
   ],
   "source": [
    "# metatrepw tis stiles me tis xronies apo String se float\n",
    "for column in df.columns[1:]:\n",
    "    df = df.withColumn(column,df[column].cast(\"float\"))\n",
    "\n",
    "df.printSchema()"
   ]
  },
  {
   "cell_type": "code",
   "execution_count": 59,
   "metadata": {},
   "outputs": [
    {
     "data": {
      "text/plain": [
       "434.70000660419464"
      ]
     },
     "execution_count": 59,
     "metadata": {},
     "output_type": "execute_result"
    }
   ],
   "source": [
    "from pyspark.sql.functions import *\n",
    "# df.groupby('Region').agg(sum('1990')).where(col('Region').contains('Europe')).show()\n",
    "df.select(sum(col('1990'))).collect()[0][0]"
   ]
  },
  {
   "cell_type": "code",
   "execution_count": 23,
   "metadata": {},
   "outputs": [
    {
     "name": "stdout",
     "output_type": "stream",
     "text": [
      "+------------------------+------------------+------------------+------------------+-----------------+------------------+-----------------+-----------------+\n",
      "|contains(Region, Europe)|         sum(1990)|         sum(1995)|         sum(2000)|        sum(2005)|         sum(2010)|        sum(2014)|        sum(2015)|\n",
      "+------------------------+------------------+------------------+------------------+-----------------+------------------+-----------------+-----------------+\n",
      "|                    true|261.50000381469727|             304.5|386.70000076293945|453.2999954223633|489.39999771118164|580.1999969482422|607.6999969482422|\n",
      "|                   false|173.20000278949738|222.39999914169312|287.09999895095825|355.8000011444092|460.70000314712524|554.0000104904175|578.5000019073486|\n",
      "+------------------------+------------------+------------------+------------------+-----------------+------------------+-----------------+-----------------+\n",
      "\n"
     ]
    }
   ],
   "source": [
    "df.groupby(col('Region').contains('Europe')).sum().show()"
   ]
  },
  {
   "cell_type": "markdown",
   "metadata": {},
   "source": [
    "## SOS OLES OI TIMES TIS STILIS REGION EXOUN ENA KENA META TO ONOMA!!!"
   ]
  },
  {
   "cell_type": "code",
   "execution_count": 24,
   "metadata": {},
   "outputs": [
    {
     "name": "stdout",
     "output_type": "stream",
     "text": [
      "+--------------------+-----+-----+-----+-----+-----+-----+-----+\n",
      "|              Region| 1990| 1995| 2000| 2005| 2010| 2014| 2015|\n",
      "+--------------------+-----+-----+-----+-----+-----+-----+-----+\n",
      "|             Europe | null| null| null| null| null| null| null|\n",
      "|    Northern Europe | 28.7| 36.4| 44.8| 59.9| 62.8| 70.8| 75.9|\n",
      "|     Western Europe |108.6|112.2|139.7|141.7|154.4|174.4|180.0|\n",
      "|Central/Eastern E...| 33.9| 57.9| 69.6| 95.3| 98.9|120.2|126.6|\n",
      "|Southern/Medit. E...| 90.3| 98.0|132.6|156.4|173.3|214.8|225.2|\n",
      "+--------------------+-----+-----+-----+-----+-----+-----+-----+\n",
      "\n"
     ]
    }
   ],
   "source": [
    "# df.groupby(col('Region').contains('Europe')).sum().collect()[0].asDict()\n",
    "df.filter(col(\"Region\").contains('Europe')).show()"
   ]
  },
  {
   "cell_type": "code",
   "execution_count": 25,
   "metadata": {},
   "outputs": [
    {
     "name": "stdout",
     "output_type": "stream",
     "text": [
      "+------------------+---------+------------------+-----------------+------------------+-----------------+-----------------+\n",
      "|         sum(1990)|sum(1995)|         sum(2000)|        sum(2005)|         sum(2010)|        sum(2014)|        sum(2015)|\n",
      "+------------------+---------+------------------+-----------------+------------------+-----------------+-----------------+\n",
      "|261.50000381469727|    304.5|386.70000076293945|453.2999954223633|489.39999771118164|580.1999969482422|607.6999969482422|\n",
      "+------------------+---------+------------------+-----------------+------------------+-----------------+-----------------+\n",
      "\n"
     ]
    }
   ],
   "source": [
    "df.filter(col(\"Region\").contains('Europe')).groupby().sum().show()"
   ]
  },
  {
   "cell_type": "code",
   "execution_count": 58,
   "metadata": {},
   "outputs": [
    {
     "name": "stdout",
     "output_type": "stream",
     "text": [
      "+--------------------+-----+-----+-----+-----+-----+-----+-----+\n",
      "|              Region| 1990| 1995| 2000| 2005| 2010| 2014| 2015|\n",
      "+--------------------+-----+-----+-----+-----+-----+-----+-----+\n",
      "|             Europe |  0.0|  0.0|  0.0|  0.0|  0.0|  0.0|  0.0|\n",
      "|    Northern Europe | 28.7| 36.4| 44.8| 59.9| 62.8| 70.8| 75.9|\n",
      "|     Western Europe |108.6|112.2|139.7|141.7|154.4|174.4|180.0|\n",
      "|Central/Eastern E...| 33.9| 57.9| 69.6| 95.3| 98.9|120.2|126.6|\n",
      "|Southern/Medit. E...| 90.3| 98.0|132.6|156.4|173.3|214.8|225.2|\n",
      "|Asia and the Paci...|  0.0|  0.0|  0.0|  0.0|  0.0|  0.0|  0.0|\n",
      "|    North-East Asia | 26.4| 41.3| 58.3| 85.9|111.5|136.3|142.1|\n",
      "|    South-East Asia | 21.2| 28.5| 36.3| 49.0| 70.5| 97.3|104.6|\n",
      "|            Oceania |  5.2|  8.1|  9.6| 10.9| 11.4| 13.3| 14.2|\n",
      "|         South Asia |  3.2|  4.2|  6.1|  8.2| 12.1| 17.5| 18.3|\n",
      "|           Americas |  0.0|  0.0|  0.0|  0.0|  0.0|  0.0|  0.0|\n",
      "|      North America | 71.8| 80.5| 91.5| 89.9| 99.5|120.9|127.6|\n",
      "|          Caribbean | 11.4| 14.0| 17.1| 18.8| 19.5| 22.3| 23.9|\n",
      "|    Central America |  1.9|  2.6|  4.3|  6.3|  7.9|  9.6| 10.3|\n",
      "|      South America |  7.7| 11.7| 15.3| 18.3| 23.2| 29.1| 30.8|\n",
      "|             Africa |  0.0|  0.0|  0.0|  0.0|  0.0|  0.0|  0.0|\n",
      "|       North Africa |  8.4|  7.3| 10.2| 13.9| 19.7| 20.4| 18.0|\n",
      "|  Subsaharan Africa |  6.4| 11.5| 16.0| 20.9| 30.7| 34.9| 35.4|\n",
      "|        Middle East |  9.6| 12.7| 22.4| 33.7| 54.7| 52.4| 53.3|\n",
      "+--------------------+-----+-----+-----+-----+-----+-----+-----+\n",
      "\n"
     ]
    }
   ],
   "source": [
    "# antikathistw PROSWRINA tis ellipeis times me to 0\n",
    "df = df.fillna(0)\n",
    "df.show()"
   ]
  },
  {
   "cell_type": "code",
   "execution_count": 61,
   "metadata": {},
   "outputs": [],
   "source": [
    "df.withColumn(\"nea_1990\", \\\n",
    "              when((df[\"1990\"]== 0) & (df[\"Region\"] == 'Europe '),259).otherwise(df[\"1990\"])).show()\n",
    "# auti einai i lisi kai opou 259 tha valw to apo panw cell me .select(col(1990)).collect()[]"
   ]
  },
  {
   "cell_type": "code",
   "execution_count": 13,
   "metadata": {},
   "outputs": [
    {
     "data": {
      "text/plain": [
       "Row(sum(1990)=259, sum(1995)=303, sum(2000)=384, sum(2005)=451, sum(2010)=487, sum(2014)=578, sum(2015)=606)"
      ]
     },
     "execution_count": 13,
     "metadata": {},
     "output_type": "execute_result"
    }
   ],
   "source": [
    "# auto einai to row me ta sum gia oles tis xronies gia ekeines Region pou periexoun to Europe sto onoma!\n",
    "df.filter(col(\"Region\").contains('Europe')).groupby().sum().collect()[0]"
   ]
  },
  {
   "cell_type": "code",
   "execution_count": 62,
   "metadata": {},
   "outputs": [],
   "source": [
    "# erotima 1\n",
    "sum_Europe_1990 = df.filter(col(\"Region\").contains('Europe')).groupby().sum().collect()[0][0]\n",
    "df.withColumn(\"1990\", \\\n",
    "              when((df[\"1990\"]== 0) & (df[\"Region\"] == 'Europe '),sum_Europe_1990).otherwise(df[\"1990\"])).show()"
   ]
  },
  {
   "cell_type": "code",
   "execution_count": null,
   "metadata": {},
   "outputs": [],
   "source": [
    "sum_Europe_1995 = df.filter(col(\"Region\").contains('Europe')).groupby().sum().collect()[0][1] # 1995\n",
    "sum_Europe_2000 = df.filter(col(\"Region\").contains('Europe')).groupby().sum().collect()[0][2] # 2000\n",
    "sum_Europe_2005 = df.filter(col(\"Region\").contains('Europe')).groupby().sum().collect()[0][3] # 2005\n",
    "sum_Europe_2010 = df.filter(col(\"Region\").contains('Europe')).groupby().sum().collect()[0][4] # 2010\n",
    "sum_Europe_2014 = df.filter(col(\"Region\").contains('Europe')).groupby().sum().collect()[0][5] # 2014\n",
    "sum_Europe_2015 = df.filter(col(\"Region\").contains('Europe')).groupby().sum().collect()[0][6] # 2015\n",
    "\n",
    "# kai kanw to apo panw query gia kathe xronio!!!\n",
    "df.withColumn(\"1995\", \\\n",
    "              when((df[\"1995\"]== 0) & (df[\"Region\"] == 'Europe '),sum_Europe_1995).otherwise(df[\"1995\"])).show()"
   ]
  },
  {
   "cell_type": "code",
   "execution_count": 37,
   "metadata": {},
   "outputs": [
    {
     "data": {
      "text/plain": [
       "{'sum(1990)': 92.80000245571136,\n",
       " 'sum(1995)': 108.7999997138977,\n",
       " 'sum(2000)': 128.20000076293945,\n",
       " 'sum(2005)': 133.30000019073486,\n",
       " 'sum(2010)': 150.10000085830688,\n",
       " 'sum(2014)': 181.9000015258789,\n",
       " 'sum(2015)': 192.59999752044678}"
      ]
     },
     "execution_count": 37,
     "metadata": {},
     "output_type": "execute_result"
    }
   ],
   "source": [
    "# erotima 1 gia America me asDict\n",
    "row_of_america_sum = df.filter((col(\"Region\").contains('America')) | col(\"Region\").contains('Caribbean')).groupby().sum().collect()[0].asDict()\n",
    "row_of_america_sum"
   ]
  },
  {
   "cell_type": "code",
   "execution_count": 63,
   "metadata": {},
   "outputs": [],
   "source": [
    "# analytika ginetai etsi!!\n",
    "df.withColumn(\"1990\", \\\n",
    "              when((df[\"1990\"]== 0) & (df[\"Region\"] == 'Americas '),row_of_america_sum['sum(1990)']).otherwise(df[\"1990\"])).show()\n",
    "df.withColumn(\"1995\", \\\n",
    "              when((df[\"1995\"]== 0) & (df[\"Region\"] == 'Americas '),row_of_america_sum['sum(1995)']).otherwise(df[\"1995\"])).show()\n",
    "df.withColumn(\"2000\", \\\n",
    "              when((df[\"2000\"]== 0) & (df[\"Region\"] == 'Americas '),row_of_america_sum['sum(2000)']).otherwise(df[\"2000\"])).show()\n",
    "df.withColumn(\"2005\", \\\n",
    "              when((df[\"2005\"]== 0) & (df[\"Region\"] == 'Americas '),row_of_america_sum['sum(2005)']).otherwise(df[\"2005\"])).show()\n",
    "df.withColumn(\"2010\", \\\n",
    "              when((df[\"2010\"]== 0) & (df[\"Region\"] == 'Americas '),row_of_america_sum['sum(2010)']).otherwise(df[\"2010\"])).show()\n",
    "df.withColumn(\"2014\", \\\n",
    "              when((df[\"2014\"]== 0) & (df[\"Region\"] == 'Americas '),row_of_america_sum['sum(2014)']).otherwise(df[\"2014\"])).show()\n",
    "df.withColumn(\"2015\", \\\n",
    "              when((df[\"2015\"]== 0) & (df[\"Region\"] == 'Americas '),row_of_america_sum['sum(2015)']).otherwise(df[\"2015\"])).show()"
   ]
  },
  {
   "cell_type": "code",
   "execution_count": 59,
   "metadata": {},
   "outputs": [],
   "source": [
    "from pyspark.sql.functions import *\n",
    "# Europe\n",
    "# pairnw san Dict to row me ta sum gia oles tis xronies, gia ekeines Region pou periexoun to Europe sto onoma!\n",
    "# to dict exei ti morfi {sum(1990):timi,sum(1995):timi} \n",
    "# opou to sum afora tis perioxes pou exoun to Europe sto onoma\n",
    "row_of_europe_sum = df.filter(col('Region').contains('Europe')).groupby().sum().collect()[0].asDict()\n",
    "for year in df.columns[1:]:\n",
    "#     dimiourgw to antistoixo kleidi sto dict gia ti xronia pou diatrexoume: p.x. sum(1990)\n",
    "    sum_row_dict_key = f'sum({year})'\n",
    "# antikathistw tin antistoixi stili tis xronias pou diatrexw me mia nea stili pou periexei\n",
    "# to antistoixo athroisma apo to Dict gia tis Region pou zitountai, dld antikathistw ta 0 me ta sum tis kathe perioxis\n",
    "# enw gia tis ipoloipes times den thelw na tis allaksw kai xrisimopoiw tis idies times tis stillis me prin \n",
    "    df = df.withColumn(year,\\\n",
    "                      when((df[year]==0) & (df['Region']=='Europe '),row_of_europe_sum[sum_row_dict_key]).otherwise(df[year]))"
   ]
  },
  {
   "cell_type": "code",
   "execution_count": 60,
   "metadata": {},
   "outputs": [],
   "source": [
    "# Americas\n",
    "# pairnw san Dict to row me ta sum gia oles tis xronies, gia ekeines Region pou periexoun to America h to Caribbean sto onoma!\n",
    "# to dict exei ti morfi {sum(1990):timi,sum(1995):timi} \n",
    "# opou to sum afora tis perioxes pou exoun to America i Caribbean sto onoma\n",
    "row_of_america_sum = df.filter((col(\"Region\").contains('America')) | col(\"Region\").contains('Caribbean')).groupby().sum().collect()[0].asDict()\n",
    "row_of_america_sum\n",
    "# diatrexw gia kathe xronia 1990-2015\n",
    "for year in df.columns[1:]: # xronies 1990-2015\n",
    "#     dimiourgw to antistoixo kleidi sto Dict gia ti xronia pou diatrexoume: sum(1990),sum(1995) kok\n",
    "    sum_row_dict_key = f'sum({year})' # kleidia sum(1990) kok gia to Dict..\n",
    "# antikathistw tin antistoixi stili tis xronias pou diatrexw me mia nea stili pou periexei\n",
    "# to antistoixo athroisma apo to Dict gia tis Region pou zitountai, dld antikathistw ta 0 me ta sum tis kathe perioxis\n",
    "# enw gia tis ipoloipes times den thelw na tis allaksw kai xrisimopoiw tis idies times tis stillis me prin \n",
    "    df = df.withColumn(year, \\\n",
    "              when((df[year]== 0) & (df[\"Region\"] == 'Americas '),row_of_america_sum[sum_row_dict_key]).otherwise(df[year]))"
   ]
  },
  {
   "cell_type": "code",
   "execution_count": 61,
   "metadata": {},
   "outputs": [],
   "source": [
    "# Africa\n",
    "# pairnw san Dict to row me ta sum gia oles tis xronies, gia ekeines Region pou periexoun to Africa sto onoma!\n",
    "# to dict exei ti morfi {sum(1990):timi,sum(1995):timi} \n",
    "# opou to sum afora tis perioxes pou exoun to Africa sto onoma\n",
    "row_of_africa_sum = df.filter(col(\"Region\").contains('Africa')).groupby().sum().collect()[0].asDict()\n",
    "row_of_africa_sum\n",
    "for year in df.columns[1:]:\n",
    "    #     dimiourgw to antistoixo kleidi sto Dict gia ti xronia pou diatrexoume: sum(1990),sum(1995) kok\n",
    "    sum_row_dict_key = f'sum({year})' # kleidia sum(1990) kok gia to Dict..\n",
    "# antikathistw tin antistoixi stili tis xronias pou diatrexw me mia nea stili pou periexei\n",
    "# to antistoixo athroisma apo to Dict gia tis Region pou zitountai, dld antikathistw ta 0 me ta sum tis kathe perioxis\n",
    "# enw gia tis ipoloipes times den thelw na tis allaksw kai xrisimopoiw tis idies times tis stillis me prin\n",
    "    df = df.withColumn(year, \\\n",
    "              when((df[year]== 0) & (df[\"Region\"] == 'Africa '),row_of_africa_sum[sum_row_dict_key]).otherwise(df[year]))"
   ]
  },
  {
   "cell_type": "code",
   "execution_count": 62,
   "metadata": {},
   "outputs": [],
   "source": [
    "# Asia\n",
    "# pairnw san Dict to row me ta sum gia oles tis xronies, gia ekeines Region pou periexoun to Asia h Oceania sto onoma!\n",
    "# to dict exei ti morfi {sum(1990):timi,sum(1995):timi} \n",
    "# opou to sum afora tis perioxes pou exoun to Asia h Oceania sto onoma\n",
    "row_of_asia_sum = df.filter((col(\"Region\").contains('Asia')) | (col(\"Region\").contains('Oceania'))).groupby().sum().collect()[0].asDict()\n",
    "row_of_asia_sum\n",
    "for year in df.columns[1:]:\n",
    "#     dimiourgw to kleidi sto dict gia ti xronia pou diatrexoume: p.x. sum(1990)\n",
    "    sum_row_dict_key = f'sum({year})'\n",
    "# antikathistw tin antistoixi stili tis xronias pou diatrexw me mia nea stili pou periexei\n",
    "# to antistoixo athroisma apo to Dict gia tis Region pou zitountai, dld antikathistw ta 0 me ta sum tis kathe perioxis\n",
    "# enw gia tis ipoloipes times den thelw na tis allaksw kai xrisimopoiw tis idies times tis stillis me prin  \n",
    "    df = df.withColumn(year, \\\n",
    "              when((df[year]== 0) & (df[\"Region\"] == 'Asia and the Pacific '),row_of_asia_sum[sum_row_dict_key]).otherwise(df[year]))"
   ]
  },
  {
   "cell_type": "code",
   "execution_count": null,
   "metadata": {},
   "outputs": [],
   "source": [
    "# pleon to dataframe df exei oles tis zitoumenes times simblirwmenes\n",
    "df.show()"
   ]
  },
  {
   "cell_type": "code",
   "execution_count": 63,
   "metadata": {},
   "outputs": [
    {
     "data": {
      "text/plain": [
       "{'sum(1990)': 14.799999713897705,\n",
       " 'sum(1995)': 18.800000190734863,\n",
       " 'sum(2000)': 26.199999809265137,\n",
       " 'sum(2005)': 34.79999923706055,\n",
       " 'sum(2010)': 50.400001525878906,\n",
       " 'sum(2014)': 55.30000114440918,\n",
       " 'sum(2015)': 53.400001525878906}"
      ]
     },
     "execution_count": 63,
     "metadata": {},
     "output_type": "execute_result"
    }
   ],
   "source": [
    "row_of_africa_sum"
   ]
  },
  {
   "cell_type": "code",
   "execution_count": 64,
   "metadata": {},
   "outputs": [
    {
     "name": "stdout",
     "output_type": "stream",
     "text": [
      "+------------------+\n",
      "|              1990|\n",
      "+------------------+\n",
      "|261.50000381469727|\n",
      "|28.700000762939453|\n",
      "| 108.5999984741211|\n",
      "|33.900001525878906|\n",
      "| 90.30000305175781|\n",
      "| 56.00000023841858|\n",
      "|26.399999618530273|\n",
      "|21.200000762939453|\n",
      "| 5.199999809265137|\n",
      "| 3.200000047683716|\n",
      "| 92.80000245571136|\n",
      "| 71.80000305175781|\n",
      "|11.399999618530273|\n",
      "| 1.899999976158142|\n",
      "| 7.699999809265137|\n",
      "|14.799999713897705|\n",
      "| 8.399999618530273|\n",
      "| 6.400000095367432|\n",
      "| 9.600000381469727|\n",
      "+------------------+\n",
      "\n"
     ]
    }
   ],
   "source": [
    "df.select(col('1990')).show()"
   ]
  },
  {
   "cell_type": "code",
   "execution_count": 66,
   "metadata": {},
   "outputs": [
    {
     "name": "stdout",
     "output_type": "stream",
     "text": [
      "+--------------------+------------------+------------------+------------------+\n",
      "|              Region|              1990|              1995|              2000|\n",
      "+--------------------+------------------+------------------+------------------+\n",
      "|             Europe |261.50000381469727|             304.5|386.70000076293945|\n",
      "|    Northern Europe |28.700000762939453|36.400001525878906| 44.79999923706055|\n",
      "|     Western Europe | 108.5999984741211|112.19999694824219| 139.6999969482422|\n",
      "|Central/Eastern E...|33.900001525878906|57.900001525878906|  69.5999984741211|\n",
      "|Southern/Medit. E...| 90.30000305175781|              98.0|132.60000610351562|\n",
      "|Asia and the Paci...| 56.00000023841858| 82.09999942779541|110.29999876022339|\n",
      "|    North-East Asia |26.399999618530273| 41.29999923706055| 58.29999923706055|\n",
      "|    South-East Asia |21.200000762939453|              28.5| 36.29999923706055|\n",
      "|            Oceania | 5.199999809265137| 8.100000381469727| 9.600000381469727|\n",
      "|         South Asia | 3.200000047683716| 4.199999809265137| 6.099999904632568|\n",
      "|           Americas | 92.80000245571136| 108.7999997138977|128.20000076293945|\n",
      "|      North America | 71.80000305175781|              80.5|              91.5|\n",
      "|          Caribbean |11.399999618530273|              14.0|17.100000381469727|\n",
      "|    Central America | 1.899999976158142|2.5999999046325684| 4.300000190734863|\n",
      "|      South America | 7.699999809265137|11.699999809265137|15.300000190734863|\n",
      "|             Africa |14.799999713897705|18.800000190734863|26.199999809265137|\n",
      "|       North Africa | 8.399999618530273| 7.300000190734863|10.199999809265137|\n",
      "|  Subsaharan Africa | 6.400000095367432|              11.5|              16.0|\n",
      "|        Middle East | 9.600000381469727|12.699999809265137|22.399999618530273|\n",
      "+--------------------+------------------+------------------+------------------+\n",
      "\n"
     ]
    }
   ],
   "source": [
    "df.select(col('Region'),col('1990'),col('1995'),col('2000')).show()"
   ]
  },
  {
   "cell_type": "code",
   "execution_count": null,
   "metadata": {},
   "outputs": [],
   "source": []
  },
  {
   "cell_type": "code",
   "execution_count": null,
   "metadata": {},
   "outputs": [],
   "source": []
  },
  {
   "cell_type": "code",
   "execution_count": 16,
   "metadata": {},
   "outputs": [],
   "source": [
    "# erotima 2\n",
    "# prosthetw sto dataframe tis stilles tis metavolis\n",
    "# gia to pososto pairnw ti diafora dio stilwn(metagenester-prohgoumeni) kai diairw me ti timi tis metagenesteris!\n",
    "df = df.withColumn('posostiaia_metavoli_90-95',(col('1995')-col('1990'))/col('1995')*100)\n",
    "df = df.withColumn('posostiaia_metavoli_95-2000', (col('2000')-col('1995'))/col('2000')*100)\n",
    "df = df.withColumn('posostiaia_metavoli_2000-2005', (col('2005')-col('2000'))/col('2005')*100)\n",
    "df = df.withColumn('posostiaia_metavoli_2005-2010', (col('2010')-col('2005'))/col('2010')*100)\n",
    "df = df.withColumn('posostiaia_metavoli_2010-2014', (col('2014')-col('2010'))/col('2014')*100)\n",
    "df = df.withColumn('posostiaia_metavoli_2014-2015', (col('2015')-col('2014'))/col('2015')*100)\n",
    "df.show()"
   ]
  },
  {
   "cell_type": "code",
   "execution_count": 69,
   "metadata": {},
   "outputs": [
    {
     "name": "stdout",
     "output_type": "stream",
     "text": [
      "Eksw apo to vroxo : 1990\n"
     ]
    }
   ],
   "source": [
    "# erotima 2 xwris polles entoles apla me ena vroxo\n",
    "import copy\n",
    "# i proti xronia 1990\n",
    "prev_year = df.columns[1]\n",
    "print(f'Eksw apo to vroxo : {prev_year}')\n",
    "# gia kathe xronia apo to 1995 kai meta\n",
    "for current_year in df.columns[2:]:\n",
    "#     prosthetw sto dataframe ti stili me ti posostiaia metavoli\n",
    "# gia to pososto pairnw ti diafora (metagenesteri-prohgoumeni) kai diairw me ti timi tis metagenesteris\n",
    "    df = df.withColumn(f'posostiaia_metavoli_{prev_year}-{current_year}',(col(current_year)-col(prev_year))/col(current_year)*100)\n",
    "#   pleon i prohgoumeni xronia ginetai isi me ti trexousa (apo 1990-1995 pame se 1995-2000 kok)\n",
    "    prev_year = current_year"
   ]
  },
  {
   "cell_type": "code",
   "execution_count": 71,
   "metadata": {},
   "outputs": [
    {
     "name": "stdout",
     "output_type": "stream",
     "text": [
      "+-----------------------------+\n",
      "|posostiaia_metavoli_1990-1995|\n",
      "+-----------------------------+\n",
      "|           14.121509420460669|\n",
      "|           21.153847363069666|\n",
      "|           3.2085548770395884|\n",
      "|            41.45077610969145|\n",
      "|            7.857139743104273|\n",
      "|           31.790498625193088|\n",
      "|           36.077481583001486|\n",
      "|           25.614032410738762|\n",
      "|            35.80247451393813|\n",
      "|            23.80951921415416|\n",
      "|           14.705879871562683|\n",
      "|           10.807449625145575|\n",
      "|            18.57143129621233|\n",
      "|            26.92307515962583|\n",
      "|             34.1880347453718|\n",
      "|           21.276598065187596|\n",
      "|          -15.068484918555564|\n",
      "|            44.34782525767451|\n",
      "|           24.409444679942766|\n",
      "+-----------------------------+\n",
      "\n"
     ]
    }
   ],
   "source": [
    "df.select('posostiaia_metavoli_1990-1995').show()"
   ]
  },
  {
   "cell_type": "code",
   "execution_count": null,
   "metadata": {},
   "outputs": [],
   "source": [
    "df.select(col('posostiaia_metavoli_1990-1995'),col('posostiaia_metavoli_1995-2000'),col('posostiaia_metavoli_2000-2005'),col('posostiaia_metavoli_2005-2010'),col('posostiaia_metavoli_2010-2014'),col('posostiaia_metavoli_2014-2015')).show()      "
   ]
  },
  {
   "cell_type": "code",
   "execution_count": null,
   "metadata": {},
   "outputs": [],
   "source": []
  }
 ],
 "metadata": {
  "kernelspec": {
   "display_name": "Python 3",
   "language": "python",
   "name": "python3"
  },
  "language_info": {
   "codemirror_mode": {
    "name": "ipython",
    "version": 3
   },
   "file_extension": ".py",
   "mimetype": "text/x-python",
   "name": "python",
   "nbconvert_exporter": "python",
   "pygments_lexer": "ipython3",
   "version": "3.7.3"
  }
 },
 "nbformat": 4,
 "nbformat_minor": 2
}
